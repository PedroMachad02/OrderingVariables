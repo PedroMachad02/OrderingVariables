{
 "cells": [
  {
   "cell_type": "code",
   "execution_count": 53,
   "metadata": {},
   "outputs": [
    {
     "name": "stdout",
     "output_type": "stream",
     "text": [
      "Ordem das variáveis antes de estimar: Index(['Akt', 'Erk', 'Jnk', 'Mek', 'P38', 'PIP2', 'PIP3', 'PKA', 'PKC', 'Plcg',\n",
      "       'Raf'],\n",
      "      dtype='object')\n",
      "---------------- ESTIMANDO ----------------\n",
      "Arquivo com a ordem aleatória para estimar\n",
      "      PKA  P38  PIP3  Raf  Mek  Jnk  Plcg  Erk  PKC  Akt  PIP2\n",
      "0       2    1     2    1    1    1     1    1    3    1     1\n",
      "1       2    2     2    1    1    1     1    2    2    1     1\n",
      "2       1    3     2    3    1    3     3    1    1    1     2\n",
      "3       3    1     3    2    1    1     1    2    1    1     1\n",
      "4       2    1     3    1    1    1     2    2    2    1     1\n",
      "...   ...  ...   ...  ...  ...  ...   ...  ...  ...  ...   ...\n",
      "9995    2    1     1    1    1    1     1    2    2    1     1\n",
      "9996    2    1     3    2    2    1     1    3    2    2     1\n",
      "9997    2    1     2    1    2    2     3    3    2    2     1\n",
      "9998    2    1     2    1    1    2     1    3    2    2     1\n",
      "9999    1    1     2    2    3    1     1    3    1    3     1\n",
      "\n",
      "[10000 rows x 11 columns]\n",
      "Ordem das variáveis aleatórias para estimar: Index(['PKA', 'P38', 'PIP3', 'Raf', 'Mek', 'Jnk', 'Plcg', 'Erk', 'PKC', 'Akt',\n",
      "       'PIP2'],\n",
      "      dtype='object')\n",
      "<pgmpy.estimators.HillClimbSearch.HillClimbSearch object at 0x00000257E045DCA0>\n"
     ]
    },
    {
     "name": "stderr",
     "output_type": "stream",
     "text": [
      " 42%|████▏     | 23/55 [00:01<00:02, 13.61it/s]\n"
     ]
    },
    {
     "name": "stdout",
     "output_type": "stream",
     "text": [
      "Melhor modelo: DAG with 11 nodes and 18 edges\n",
      "Valor de Score: -72231.66380308164\n",
      "Estrutura da rede: [('PKA', 'Mek'), ('PKA', 'Jnk'), ('PKA', 'Erk'), ('PKA', 'Raf'), ('PKA', 'Akt'), ('P38', 'PKA'), ('P38', 'PKC'), ('Mek', 'Raf'), ('Mek', 'Akt'), ('Mek', 'Erk'), ('Plcg', 'PIP3'), ('PKC', 'Jnk'), ('PKC', 'Raf'), ('PKC', 'Mek'), ('PKC', 'PKA'), ('Akt', 'Erk'), ('PIP2', 'Plcg'), ('PIP2', 'PIP3')]\n",
      "CPDs: [<TabularCPD representing P(PKA:3 | P38:3, PKC:3) at 0x257e1638800>, <TabularCPD representing P(P38:3) at 0x257dd4d6840>, <TabularCPD representing P(PIP3:3 | PIP2:3, Plcg:3) at 0x257e0444b60>, <TabularCPD representing P(Raf:3 | Mek:3, PKA:3, PKC:3) at 0x257e3064590>, <TabularCPD representing P(Mek:3 | PKA:3, PKC:3) at 0x257e305cc80>, <TabularCPD representing P(Jnk:3 | PKA:3, PKC:3) at 0x257e301af90>, <TabularCPD representing P(Plcg:3 | PIP2:3) at 0x257e1635c40>, <TabularCPD representing P(Erk:3 | Akt:3, Mek:3, PKA:3) at 0x257e0458740>, <TabularCPD representing P(PKC:3 | P38:3) at 0x257e301b590>, <TabularCPD representing P(Akt:3 | Mek:3, PKA:3) at 0x257e16387a0>, <TabularCPD representing P(PIP2:3) at 0x257e3018710>]\n",
      "Bayesian Network: BayesianNetwork with 11 nodes and 18 edges\n"
     ]
    }
   ],
   "source": [
    "'''import pandas as pd\n",
    "import numpy as np\n",
    "from pgmpy.estimators import K2Score\n",
    "from pgmpy.models import BayesianNetwork\n",
    "from pgmpy.estimators import HillClimbSearch, BayesianEstimator\n",
    "import random\n",
    "\n",
    "def load_data(DATA_CSV):\n",
    "    D = pd.read_csv(DATA_CSV)\n",
    "    V = D.columns\n",
    "    D = D.sample(frac=1, axis=1)  # Embaralha as colunas\n",
    "    V_shuffled_columns = D.columns\n",
    "    #print(f'ARQUIVO: {D}')\n",
    "    #print(f'VARIÁVEIS: {V}')\n",
    "    return D, V, D, V_shuffled_columns\n",
    "\n",
    "def calcular_k2(D):\n",
    "    k2score = K2Score(D)\n",
    "    return k2score\n",
    "\n",
    "def estimar_modelo(D):\n",
    "    k2score = K2Score(D)  # Calcula o K2Score com os dados embaralhados\n",
    "    estimator_k2 = HillClimbSearch(D)\n",
    "    print(estimator_k2)  # Usa os dados embaralhados para a busca\n",
    "    max_possible_edges = len(V_shuffled_columns) * (len(V_shuffled_columns) - 1) / 2\n",
    "    max_iter = min(max_possible_edges, 1000)\n",
    "    best_model = estimator_k2.estimate(scoring_method='k2score', max_indegree=4, max_iter=max_iter)\n",
    "    k2_score = k2score.score(best_model)  # Calcula o score com os dados embaralhados\n",
    "    return best_model, k2_score\n",
    "\n",
    "def estimar_modelo(D):\n",
    "    k2score = K2Score(D)\n",
    "    best_score = float(\"-inf\")\n",
    "    best_model = None\n",
    "\n",
    "    # Teste diferentes ordens de variáveis e escolha a que maximiza o K2Score\n",
    "    for i in range(10):  # Teste 10 ordens aleatórias diferentes\n",
    "        random_order = random.sample(D.columns.tolist(), len(D.columns))\n",
    "        estimator_k2 = HillClimbSearch(D[random_order])\n",
    "        model = estimator_k2.estimate(scoring_method='k2score', max_indegree=4, max_iter=1000)\n",
    "        score = k2score.score(model)\n",
    "        print(f\"Ordem[{random_order}]: Score:\", end=\" \")\n",
    "        print(score)\n",
    "        print('------------------------------------')\n",
    "        if score > best_score:\n",
    "            best_score = score\n",
    "            best_model = model\n",
    "\n",
    "    return best_model, best_score\n",
    "\n",
    "def tabular_cpd(best_model, D):\n",
    "    bayesian_network = BayesianNetwork(best_model)\n",
    "    estimator = BayesianEstimator(bayesian_network, D)\n",
    "    cpds = []\n",
    "    for node in bayesian_network.nodes():\n",
    "        cpd = estimator.estimate_cpd(node)\n",
    "        cpds.append(cpd)\n",
    "    return cpds, bayesian_network\n",
    "\n",
    "# Caminho do arquivo CSV original\n",
    "DATA_CSV = 'sachs.csv'\n",
    "\n",
    "# Carregar dados\n",
    "D, V, D, V_shuffled_columns = load_data(DATA_CSV)\n",
    "\n",
    "\n",
    "# Estima a estrutura do modelo com o K2\n",
    "#print(f'Ordem das variáveis antes de estimar: {D}')\n",
    "print(f'Ordem das variáveis antes de estimar: {V}')\n",
    "print('---------------- ESTIMANDO ----------------')\n",
    "print(f'Arquivo com a ordem aleatória para estimar')\n",
    "print(D)\n",
    "print(f'Ordem das variáveis aleatórias para estimar: {V_shuffled_columns}')\n",
    "best_model, k2_score = estimar_modelo(D)\n",
    "print(f'Melhor modelo: {best_model}')\n",
    "print(f'Valor de Score: {k2_score}')\n",
    "\n",
    "\n",
    "# Exibe a estrutura do modelo\n",
    "structure = (best_model.edges)\n",
    "print(f'Estrutura da rede: {structure}')\n",
    "\n",
    "# Estima as CPDs e passa a bayesian_network\n",
    "cpds, bayesian_network = tabular_cpd(best_model, D)\n",
    "print(f'CPDs: {cpds}')\n",
    "print(f'Bayesian Network: {bayesian_network}')'''\n"
   ]
  },
  {
   "cell_type": "code",
   "execution_count": 75,
   "metadata": {},
   "outputs": [
    {
     "name": "stderr",
     "output_type": "stream",
     "text": [
      "Working for n conditional variables: 0:   0%|          | 0/5 [00:00<?, ?it/s]"
     ]
    },
    {
     "name": "stderr",
     "output_type": "stream",
     "text": [
      "Working for n conditional variables: 2:  40%|████      | 2/5 [00:00<00:00, 35.29it/s]\n"
     ]
    },
    {
     "name": "stdout",
     "output_type": "stream",
     "text": [
      "Estrutura inicial estimada:\n",
      "[('tear-prod-rate', 'contact-lenses')]\n"
     ]
    },
    {
     "name": "stderr",
     "output_type": "stream",
     "text": [
      " 40%|████      | 4/10 [00:00<00:00, 21.52it/s]\n"
     ]
    },
    {
     "name": "stdout",
     "output_type": "stream",
     "text": [
      "Ordem aleatória: ['age', 'contact-lenses', 'tear-prod-rate', 'spectacle-prescrip', 'astigmatism']\n",
      "Estrutura estimada: [('contact-lenses', 'tear-prod-rate'), ('contact-lenses', 'astigmatism')]\n",
      "K2 Score: -98.72503647411929\n",
      "\n",
      "\n"
     ]
    },
    {
     "name": "stderr",
     "output_type": "stream",
     "text": [
      " 60%|██████    | 6/10 [00:00<00:00, 24.53it/s]\n"
     ]
    },
    {
     "name": "stdout",
     "output_type": "stream",
     "text": [
      "Ordem aleatória: ['tear-prod-rate', 'age', 'contact-lenses', 'astigmatism', 'spectacle-prescrip']\n",
      "Estrutura estimada: [('tear-prod-rate', 'age'), ('contact-lenses', 'astigmatism'), ('contact-lenses', 'age'), ('contact-lenses', 'tear-prod-rate'), ('astigmatism', 'age'), ('spectacle-prescrip', 'age')]\n",
      "K2 Score: -91.99933532431857\n",
      "\n",
      "\n"
     ]
    },
    {
     "name": "stderr",
     "output_type": "stream",
     "text": [
      " 50%|█████     | 5/10 [00:00<00:00, 29.10it/s]\n"
     ]
    },
    {
     "name": "stdout",
     "output_type": "stream",
     "text": [
      "Ordem aleatória: ['astigmatism', 'age', 'contact-lenses', 'tear-prod-rate', 'spectacle-prescrip']\n",
      "Estrutura estimada: [('astigmatism', 'age'), ('contact-lenses', 'tear-prod-rate'), ('contact-lenses', 'age'), ('contact-lenses', 'astigmatism'), ('tear-prod-rate', 'age'), ('spectacle-prescrip', 'age')]\n",
      "K2 Score: -91.99933532431857\n",
      "\n",
      "\n"
     ]
    },
    {
     "name": "stderr",
     "output_type": "stream",
     "text": [
      " 50%|█████     | 5/10 [00:00<00:00, 26.84it/s]\n"
     ]
    },
    {
     "name": "stdout",
     "output_type": "stream",
     "text": [
      "Ordem aleatória: ['age', 'astigmatism', 'spectacle-prescrip', 'contact-lenses', 'tear-prod-rate']\n",
      "Estrutura estimada: [('contact-lenses', 'tear-prod-rate'), ('contact-lenses', 'astigmatism')]\n",
      "K2 Score: -98.72503647411929\n",
      "\n",
      "\n"
     ]
    },
    {
     "name": "stderr",
     "output_type": "stream",
     "text": [
      " 60%|██████    | 6/10 [00:00<00:00, 43.09it/s]\n"
     ]
    },
    {
     "name": "stdout",
     "output_type": "stream",
     "text": [
      "Ordem aleatória: ['spectacle-prescrip', 'age', 'tear-prod-rate', 'astigmatism', 'contact-lenses']\n",
      "Estrutura estimada: [('contact-lenses', 'astigmatism'), ('contact-lenses', 'tear-prod-rate')]\n",
      "K2 Score: -98.72503647411928\n",
      "\n",
      "\n"
     ]
    },
    {
     "name": "stderr",
     "output_type": "stream",
     "text": [
      " 40%|████      | 4/10 [00:00<00:00, 20.53it/s]\n"
     ]
    },
    {
     "name": "stdout",
     "output_type": "stream",
     "text": [
      "Ordem aleatória: ['contact-lenses', 'astigmatism', 'age', 'tear-prod-rate', 'spectacle-prescrip']\n",
      "Estrutura estimada: [('contact-lenses', 'astigmatism'), ('contact-lenses', 'tear-prod-rate')]\n",
      "K2 Score: -98.72503647411929\n",
      "\n",
      "\n"
     ]
    },
    {
     "name": "stderr",
     "output_type": "stream",
     "text": [
      " 80%|████████  | 8/10 [00:00<00:00, 32.07it/s]\n"
     ]
    },
    {
     "name": "stdout",
     "output_type": "stream",
     "text": [
      "Ordem aleatória: ['spectacle-prescrip', 'tear-prod-rate', 'astigmatism', 'contact-lenses', 'age']\n",
      "Estrutura estimada: [('spectacle-prescrip', 'age'), ('tear-prod-rate', 'age'), ('astigmatism', 'age'), ('contact-lenses', 'age'), ('contact-lenses', 'astigmatism'), ('contact-lenses', 'tear-prod-rate')]\n",
      "K2 Score: -91.99933532431858\n",
      "\n",
      "\n"
     ]
    },
    {
     "name": "stderr",
     "output_type": "stream",
     "text": [
      " 50%|█████     | 5/10 [00:00<00:00, 27.01it/s]\n"
     ]
    },
    {
     "name": "stdout",
     "output_type": "stream",
     "text": [
      "Ordem aleatória: ['tear-prod-rate', 'contact-lenses', 'spectacle-prescrip', 'astigmatism', 'age']\n",
      "Estrutura estimada: [('contact-lenses', 'astigmatism'), ('contact-lenses', 'tear-prod-rate')]\n",
      "K2 Score: -98.72503647411928\n",
      "\n",
      "\n"
     ]
    },
    {
     "name": "stderr",
     "output_type": "stream",
     "text": [
      " 70%|███████   | 7/10 [00:00<00:00, 43.47it/s]\n"
     ]
    },
    {
     "name": "stdout",
     "output_type": "stream",
     "text": [
      "Ordem aleatória: ['tear-prod-rate', 'astigmatism', 'spectacle-prescrip', 'age', 'contact-lenses']\n",
      "Estrutura estimada: [('contact-lenses', 'astigmatism'), ('contact-lenses', 'tear-prod-rate')]\n",
      "K2 Score: -98.72503647411928\n",
      "\n",
      "\n"
     ]
    },
    {
     "name": "stderr",
     "output_type": "stream",
     "text": [
      " 60%|██████    | 6/10 [00:00<00:00, 35.38it/s]\n"
     ]
    },
    {
     "name": "stdout",
     "output_type": "stream",
     "text": [
      "Ordem aleatória: ['contact-lenses', 'astigmatism', 'spectacle-prescrip', 'tear-prod-rate', 'age']\n",
      "Estrutura estimada: [('contact-lenses', 'astigmatism'), ('contact-lenses', 'tear-prod-rate'), ('contact-lenses', 'age'), ('astigmatism', 'age'), ('spectacle-prescrip', 'age'), ('tear-prod-rate', 'age')]\n",
      "K2 Score: -91.99933532431858\n",
      "\n",
      "\n",
      "------------------------------------------------------------------------------\n"
     ]
    },
    {
     "name": "stderr",
     "output_type": "stream",
     "text": [
      " 20%|██        | 2/10 [00:00<00:00, 12.94it/s]"
     ]
    },
    {
     "name": "stdout",
     "output_type": "stream",
     "text": [
      "Melhor Estrutura: [('contact-lenses', 'tear-prod-rate'), ('contact-lenses', 'astigmatism')]\n",
      "Melhor Score: -98.72503647411928\n"
     ]
    },
    {
     "name": "stderr",
     "output_type": "stream",
     "text": [
      "\n"
     ]
    }
   ],
   "source": [
    "import pandas as pd\n",
    "import numpy as np\n",
    "from pgmpy.estimators import K2Score, HillClimbSearch, PC\n",
    "from pgmpy.models import BayesianNetwork\n",
    "import random\n",
    "\n",
    "# Função para calcular K2 Score para uma estrutura de rede bayesiana\n",
    "def calculate_k2_score(model, data):\n",
    "    k2_score = K2Score(data)\n",
    "    return k2_score.score(model)\n",
    "\n",
    "# Função para gerar uma ordem aleatória das variáveis\n",
    "def generate_random_order(variables):\n",
    "    return random.sample(variables, len(variables))\n",
    "\n",
    "# Carregar dados do CSV\n",
    "data = pd.read_csv('contact-lenses.csv')\n",
    "\n",
    "# Extrair o nome das variáveis a partir das colunas do DataFrame\n",
    "variables = list(data.columns)\n",
    "\n",
    "# Número de ordens aleatórias que queremos gerar\n",
    "num_orders = 10\n",
    "\n",
    "# Calcular K2 Score para cada ordem aleatória\n",
    "for i in range(num_orders):\n",
    "    # Gerar uma ordem aleatória\n",
    "    random_order = generate_random_order(variables)\n",
    "    \n",
    "    # Criar modelo bayesiano com a ordem aleatória das variáveis\n",
    "    start_dag = BayesianNetwork([(random_order[i], random_order[i+1]) for i in range(len(random_order)-1)])\n",
    "    \n",
    "    # Estimar a estrutura da rede bayesiana a partir dos dados com inicialização aleatória\n",
    "    hc = HillClimbSearch(data)\n",
    "    max_possible_edges = len(random_order) * (len(random_order) - 1) / 2\n",
    "    max_iter = min(max_possible_edges, 1000)\n",
    "    estimated_model = hc.estimate(start_dag=start_dag, max_indegree=4, max_iter=max_iter)\n",
    "    \n",
    "    # Estimar parâmetros do modelo a partir dos dados\n",
    "    estimated_model.fit(data)\n",
    "    \n",
    "    # Calcular K2 Score para a estrutura do modelo\n",
    "    k2_score = calculate_k2_score(estimated_model, data)\n",
    "    \n",
    "    # Imprimir resultados\n",
    "    print(f\"Ordem aleatória: {random_order}\")\n",
    "    print(f\"Estrutura estimada: {list(estimated_model.edges())}\")\n",
    "    print(f\"K2 Score: {k2_score}\")\n",
    "    print(\"\\n\")\n",
    "print('------------------------------------------------------------------------------')\n",
    "\n",
    "k2score = K2Score(data)\n",
    "\n",
    "best_model = hc.estimate(max_indegree=4, max_iter=max_iter)\n",
    "best_score = k2score.score(best_model)\n",
    "print(f'Melhor Estrutura: {best_model.edges}')\n",
    "print(f'Melhor Score: {best_score}')"
   ]
  },
  {
   "cell_type": "code",
   "execution_count": 70,
   "metadata": {},
   "outputs": [
    {
     "data": {
      "image/png": "[encoded data removed]",
      "text/plain": [
       "<Figure size 1200x600 with 1 Axes>"
      ]
     },
     "metadata": {},
     "output_type": "display_data"
    }
   ],
   "source": [
    "import matplotlib.pyplot as plt\n",
    "import networkx as nx\n",
    "\n",
    "# Criar um objeto de grafo direcionado\n",
    "G = nx.DiGraph()\n",
    "\n",
    "# Adicionar arestas ao grafo com base na estrutura do modelo\n",
    "G.add_edges_from(estimated_model.edges())\n",
    "\n",
    "# Plotar o grafo\n",
    "plt.figure(figsize=(12, 6))\n",
    "pos = nx.spring_layout(G)  # Define a posição dos nós\n",
    "nx.draw(G, pos, with_labels=True, node_size=3000, node_color=\"skyblue\", font_size=10, arrowsize=20)\n",
    "plt.title(f\"Estrutura da Rede Bayesiana com o Score: {k2_score}\")\n",
    "plt.show()"
   ]
  }
 ],
 "metadata": {
  "kernelspec": {
   "display_name": "Python 3",
   "language": "python",
   "name": "python3"
  },
  "language_info": {
   "codemirror_mode": {
    "name": "ipython",
    "version": 3
   },
   "file_extension": ".py",
   "mimetype": "text/x-python",
   "name": "python",
   "nbconvert_exporter": "python",
   "pygments_lexer": "ipython3",
   "version": "3.12.3"
  }
 },
 "nbformat": 4,
 "nbformat_minor": 2
}
