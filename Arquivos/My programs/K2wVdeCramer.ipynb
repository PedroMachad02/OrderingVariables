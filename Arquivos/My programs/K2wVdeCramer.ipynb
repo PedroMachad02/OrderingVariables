{
 "cells": [
  {
   "cell_type": "code",
   "execution_count": 1,
   "metadata": {},
   "outputs": [
    {
     "name": "stdout",
     "output_type": "stream",
     "text": [
      "Collecting dython\n",
      "  Downloading dython-0.7.5-py3-none-any.whl.metadata (3.0 kB)\n",
      "Requirement already satisfied: numpy>=1.23.0 in c:\\users\\usuário\\appdata\\local\\programs\\python\\python312\\lib\\site-packages (from dython) (1.26.4)\n",
      "Requirement already satisfied: pandas>=1.4.2 in c:\\users\\usuário\\appdata\\local\\programs\\python\\python312\\lib\\site-packages (from dython) (2.2.2)\n",
      "Collecting seaborn>=0.12.0 (from dython)\n",
      "  Downloading seaborn-0.13.2-py3-none-any.whl.metadata (5.4 kB)\n",
      "Requirement already satisfied: scipy>=1.7.1 in c:\\users\\usuário\\appdata\\local\\programs\\python\\python312\\lib\\site-packages (from dython) (1.13.0)\n",
      "Requirement already satisfied: matplotlib>=3.6.0 in c:\\users\\usuário\\appdata\\local\\programs\\python\\python312\\lib\\site-packages (from dython) (3.8.4)\n",
      "Requirement already satisfied: scikit-learn>=0.24.2 in c:\\users\\usuário\\appdata\\local\\programs\\python\\python312\\lib\\site-packages (from dython) (1.4.2)\n",
      "Requirement already satisfied: psutil>=5.9.1 in c:\\users\\usuário\\appdata\\roaming\\python\\python312\\site-packages (from dython) (5.9.8)\n",
      "Requirement already satisfied: contourpy>=1.0.1 in c:\\users\\usuário\\appdata\\local\\programs\\python\\python312\\lib\\site-packages (from matplotlib>=3.6.0->dython) (1.2.1)\n",
      "Requirement already satisfied: cycler>=0.10 in c:\\users\\usuário\\appdata\\local\\programs\\python\\python312\\lib\\site-packages (from matplotlib>=3.6.0->dython) (0.12.1)\n",
      "Requirement already satisfied: fonttools>=4.22.0 in c:\\users\\usuário\\appdata\\local\\programs\\python\\python312\\lib\\site-packages (from matplotlib>=3.6.0->dython) (4.51.0)\n",
      "Requirement already satisfied: kiwisolver>=1.3.1 in c:\\users\\usuário\\appdata\\local\\programs\\python\\python312\\lib\\site-packages (from matplotlib>=3.6.0->dython) (1.4.5)\n",
      "Requirement already satisfied: packaging>=20.0 in c:\\users\\usuário\\appdata\\local\\programs\\python\\python312\\lib\\site-packages (from matplotlib>=3.6.0->dython) (24.0)\n",
      "Requirement already satisfied: pillow>=8 in c:\\users\\usuário\\appdata\\local\\programs\\python\\python312\\lib\\site-packages (from matplotlib>=3.6.0->dython) (10.3.0)\n",
      "Requirement already satisfied: pyparsing>=2.3.1 in c:\\users\\usuário\\appdata\\local\\programs\\python\\python312\\lib\\site-packages (from matplotlib>=3.6.0->dython) (3.1.2)\n",
      "Requirement already satisfied: python-dateutil>=2.7 in c:\\users\\usuário\\appdata\\local\\programs\\python\\python312\\lib\\site-packages (from matplotlib>=3.6.0->dython) (2.9.0.post0)\n",
      "Requirement already satisfied: pytz>=2020.1 in c:\\users\\usuário\\appdata\\local\\programs\\python\\python312\\lib\\site-packages (from pandas>=1.4.2->dython) (2024.1)\n",
      "Requirement already satisfied: tzdata>=2022.7 in c:\\users\\usuário\\appdata\\local\\programs\\python\\python312\\lib\\site-packages (from pandas>=1.4.2->dython) (2024.1)\n",
      "Requirement already satisfied: joblib>=1.2.0 in c:\\users\\usuário\\appdata\\local\\programs\\python\\python312\\lib\\site-packages (from scikit-learn>=0.24.2->dython) (1.4.0)\n",
      "Requirement already satisfied: threadpoolctl>=2.0.0 in c:\\users\\usuário\\appdata\\local\\programs\\python\\python312\\lib\\site-packages (from scikit-learn>=0.24.2->dython) (3.4.0)\n",
      "Requirement already satisfied: six>=1.5 in c:\\users\\usuário\\appdata\\local\\programs\\python\\python312\\lib\\site-packages (from python-dateutil>=2.7->matplotlib>=3.6.0->dython) (1.16.0)\n",
      "Downloading dython-0.7.5-py3-none-any.whl (26 kB)\n",
      "Downloading seaborn-0.13.2-py3-none-any.whl (294 kB)\n",
      "   ---------------------------------------- 0.0/294.9 kB ? eta -:--:--\n",
      "   ----- ---------------------------------- 41.0/294.9 kB ? eta -:--:--\n",
      "   ----- ---------------------------------- 41.0/294.9 kB ? eta -:--:--\n",
      "   -------------------------- ------------- 194.6/294.9 kB 1.5 MB/s eta 0:00:01\n",
      "   -------------------------------------- - 286.7/294.9 kB 1.8 MB/s eta 0:00:01\n",
      "   ---------------------------------------- 294.9/294.9 kB 1.5 MB/s eta 0:00:00\n",
      "Installing collected packages: seaborn, dython\n",
      "Successfully installed dython-0.7.5 seaborn-0.13.2\n"
     ]
    }
   ],
   "source": [
    "!pip install dython"
   ]
  },
  {
   "cell_type": "code",
   "execution_count": 19,
   "metadata": {},
   "outputs": [
    {
     "name": "stdout",
     "output_type": "stream",
     "text": [
      "['PKA', 'Mek', 'Akt', 'Raf', 'P38', 'Jnk', 'PKC', 'Erk', 'Plcg', 'PIP2', 'PIP3']\n"
     ]
    },
    {
     "name": "stderr",
     "output_type": "stream",
     "text": [
      "c:\\Users\\Usuário\\AppData\\Local\\Programs\\Python\\Python312\\Lib\\site-packages\\dython\\nominal.py:736: FutureWarning: Setting an item of incompatible dtype is deprecated and will raise an error in a future version of pandas. Value '' has dtype incompatible with float64, please explicitly cast to a compatible dtype first.\n",
      "  inf_nan.loc[columns[i], columns[j]] = _inf_nan_str(ij)\n",
      "c:\\Users\\Usuário\\AppData\\Local\\Programs\\Python\\Python312\\Lib\\site-packages\\dython\\nominal.py:737: FutureWarning: Setting an item of incompatible dtype is deprecated and will raise an error in a future version of pandas. Value '' has dtype incompatible with float64, please explicitly cast to a compatible dtype first.\n",
      "  inf_nan.loc[columns[j], columns[i]] = _inf_nan_str(ji)\n",
      "c:\\Users\\Usuário\\AppData\\Local\\Programs\\Python\\Python312\\Lib\\site-packages\\dython\\nominal.py:736: FutureWarning: Setting an item of incompatible dtype is deprecated and will raise an error in a future version of pandas. Value '' has dtype incompatible with float64, please explicitly cast to a compatible dtype first.\n",
      "  inf_nan.loc[columns[i], columns[j]] = _inf_nan_str(ij)\n",
      "c:\\Users\\Usuário\\AppData\\Local\\Programs\\Python\\Python312\\Lib\\site-packages\\dython\\nominal.py:736: FutureWarning: Setting an item of incompatible dtype is deprecated and will raise an error in a future version of pandas. Value '' has dtype incompatible with float64, please explicitly cast to a compatible dtype first.\n",
      "  inf_nan.loc[columns[i], columns[j]] = _inf_nan_str(ij)\n",
      "c:\\Users\\Usuário\\AppData\\Local\\Programs\\Python\\Python312\\Lib\\site-packages\\dython\\nominal.py:736: FutureWarning: Setting an item of incompatible dtype is deprecated and will raise an error in a future version of pandas. Value '' has dtype incompatible with float64, please explicitly cast to a compatible dtype first.\n",
      "  inf_nan.loc[columns[i], columns[j]] = _inf_nan_str(ij)\n",
      "c:\\Users\\Usuário\\AppData\\Local\\Programs\\Python\\Python312\\Lib\\site-packages\\dython\\nominal.py:736: FutureWarning: Setting an item of incompatible dtype is deprecated and will raise an error in a future version of pandas. Value '' has dtype incompatible with float64, please explicitly cast to a compatible dtype first.\n",
      "  inf_nan.loc[columns[i], columns[j]] = _inf_nan_str(ij)\n",
      "c:\\Users\\Usuário\\AppData\\Local\\Programs\\Python\\Python312\\Lib\\site-packages\\dython\\nominal.py:736: FutureWarning: Setting an item of incompatible dtype is deprecated and will raise an error in a future version of pandas. Value '' has dtype incompatible with float64, please explicitly cast to a compatible dtype first.\n",
      "  inf_nan.loc[columns[i], columns[j]] = _inf_nan_str(ij)\n",
      "c:\\Users\\Usuário\\AppData\\Local\\Programs\\Python\\Python312\\Lib\\site-packages\\dython\\nominal.py:736: FutureWarning: Setting an item of incompatible dtype is deprecated and will raise an error in a future version of pandas. Value '' has dtype incompatible with float64, please explicitly cast to a compatible dtype first.\n",
      "  inf_nan.loc[columns[i], columns[j]] = _inf_nan_str(ij)\n",
      "c:\\Users\\Usuário\\AppData\\Local\\Programs\\Python\\Python312\\Lib\\site-packages\\dython\\nominal.py:736: FutureWarning: Setting an item of incompatible dtype is deprecated and will raise an error in a future version of pandas. Value '' has dtype incompatible with float64, please explicitly cast to a compatible dtype first.\n",
      "  inf_nan.loc[columns[i], columns[j]] = _inf_nan_str(ij)\n",
      "c:\\Users\\Usuário\\AppData\\Local\\Programs\\Python\\Python312\\Lib\\site-packages\\dython\\nominal.py:736: FutureWarning: Setting an item of incompatible dtype is deprecated and will raise an error in a future version of pandas. Value '' has dtype incompatible with float64, please explicitly cast to a compatible dtype first.\n",
      "  inf_nan.loc[columns[i], columns[j]] = _inf_nan_str(ij)\n",
      "c:\\Users\\Usuário\\AppData\\Local\\Programs\\Python\\Python312\\Lib\\site-packages\\dython\\nominal.py:736: FutureWarning: Setting an item of incompatible dtype is deprecated and will raise an error in a future version of pandas. Value '' has dtype incompatible with float64, please explicitly cast to a compatible dtype first.\n",
      "  inf_nan.loc[columns[i], columns[j]] = _inf_nan_str(ij)\n"
     ]
    }
   ],
   "source": [
    "import pandas as pd\n",
    "from dython.nominal import associations\n",
    "\n",
    "df = pd.read_csv('sachs.csv')\n",
    "# Calcular a matriz de correlação V de Cramer usando dython\n",
    "correlation_matrix = associations(df, nominal_columns='all', compute_only=True)['corr']\n",
    "\n",
    "\n",
    "# Ordenar as variáveis com base na soma das correlações\n",
    "correlation_sums = correlation_matrix.sum(axis=1)\n",
    "ordered_vars = correlation_sums.sort_values(ascending=False)\n",
    "\n",
    "print(list(ordered_vars.index))\n"
   ]
  }
 ],
 "metadata": {
  "kernelspec": {
   "display_name": "Python 3",
   "language": "python",
   "name": "python3"
  },
  "language_info": {
   "codemirror_mode": {
    "name": "ipython",
    "version": 3
   },
   "file_extension": ".py",
   "mimetype": "text/x-python",
   "name": "python",
   "nbconvert_exporter": "python",
   "pygments_lexer": "ipython3",
   "version": "3.12.3"
  }
 },
 "nbformat": 4,
 "nbformat_minor": 2
}
