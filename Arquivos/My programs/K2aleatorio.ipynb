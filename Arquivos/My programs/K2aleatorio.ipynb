{
 "cells": [
  {
   "cell_type": "code",
   "execution_count": 22,
   "metadata": {},
   "outputs": [
    {
     "name": "stdout",
     "output_type": "stream",
     "text": [
      "Ordem das variáveis antes de estimar: Index(['MINVOLSET', 'STROKEVOLUME', 'PVSAT', 'INSUFFANESTH', 'HRSAT', 'EXPCO2',\n",
      "       'INTUBATION', 'BP', 'HR', 'PCWP', 'DISCONNECT', 'HISTORY', 'HREKG',\n",
      "       'LVEDVOLUME', 'VENTMACH', 'ERRLOWOUTPUT', 'CATECHOL', 'VENTALV',\n",
      "       'ANAPHYLAXIS', 'ARTCO2', 'PRESS', 'SHUNT', 'SAO2', 'ERRCAUTER',\n",
      "       'LVFAILURE', 'HYPOVOLEMIA', 'FIO2', 'KINKEDTUBE', 'TPR', 'CO',\n",
      "       'VENTLUNG', 'MINVOL', 'VENTTUBE', 'PULMEMBOLUS', 'PAP', 'HRBP', 'CVP'],\n",
      "      dtype='object')\n",
      "Lista de variáveis dentro do estimar_modelo: Index(['MINVOLSET', 'STROKEVOLUME', 'PVSAT', 'INSUFFANESTH', 'HRSAT', 'EXPCO2',\n",
      "       'INTUBATION', 'BP', 'HR', 'PCWP', 'DISCONNECT', 'HISTORY', 'HREKG',\n",
      "       'LVEDVOLUME', 'VENTMACH', 'ERRLOWOUTPUT', 'CATECHOL', 'VENTALV',\n",
      "       'ANAPHYLAXIS', 'ARTCO2', 'PRESS', 'SHUNT', 'SAO2', 'ERRCAUTER',\n",
      "       'LVFAILURE', 'HYPOVOLEMIA', 'FIO2', 'KINKEDTUBE', 'TPR', 'CO',\n",
      "       'VENTLUNG', 'MINVOL', 'VENTTUBE', 'PULMEMBOLUS', 'PAP', 'HRBP', 'CVP'],\n",
      "      dtype='object')\n"
     ]
    },
    {
     "name": "stderr",
     "output_type": "stream",
     "text": [
      " 10%|▉         | 65/666 [00:19<02:57,  3.39it/s] \n",
      "WARNING:pgmpy:BayesianModel has been renamed to BayesianNetwork. Please use BayesianNetwork class, BayesianModel will be removed in future.\n"
     ]
    },
    {
     "name": "stdout",
     "output_type": "stream",
     "text": [
      "Valor do score K2: -106412.82447895246\n",
      "Ordem das variáveis: Index(['MINVOLSET', 'STROKEVOLUME', 'PVSAT', 'INSUFFANESTH', 'HRSAT', 'EXPCO2',\n",
      "       'INTUBATION', 'BP', 'HR', 'PCWP', 'DISCONNECT', 'HISTORY', 'HREKG',\n",
      "       'LVEDVOLUME', 'VENTMACH', 'ERRLOWOUTPUT', 'CATECHOL', 'VENTALV',\n",
      "       'ANAPHYLAXIS', 'ARTCO2', 'PRESS', 'SHUNT', 'SAO2', 'ERRCAUTER',\n",
      "       'LVFAILURE', 'HYPOVOLEMIA', 'FIO2', 'KINKEDTUBE', 'TPR', 'CO',\n",
      "       'VENTLUNG', 'MINVOL', 'VENTTUBE', 'PULMEMBOLUS', 'PAP', 'HRBP', 'CVP'],\n",
      "      dtype='object')\n",
      "Melhor modelo: DAG with 37 nodes and 61 edges\n",
      "Estrutura da rede: [('STROKEVOLUME', 'CO'), ('STROKEVOLUME', 'HYPOVOLEMIA'), ('PVSAT', 'SAO2'), ('PVSAT', 'VENTLUNG'), ('PVSAT', 'INTUBATION'), ('INTUBATION', 'SHUNT'), ('INTUBATION', 'PRESS'), ('HR', 'HRBP'), ('HR', 'HRSAT'), ('HR', 'CO'), ('HR', 'CATECHOL'), ('HR', 'HREKG'), ('HR', 'BP'), ('HR', 'TPR'), ('DISCONNECT', 'VENTTUBE'), ('DISCONNECT', 'VENTMACH'), ('LVEDVOLUME', 'PCWP'), ('LVEDVOLUME', 'HYPOVOLEMIA'), ('LVEDVOLUME', 'LVFAILURE'), ('LVEDVOLUME', 'STROKEVOLUME'), ('VENTMACH', 'MINVOLSET'), ('ERRLOWOUTPUT', 'HRBP'), ('CATECHOL', 'TPR'), ('VENTALV', 'ARTCO2'), ('VENTALV', 'VENTLUNG'), ('VENTALV', 'PVSAT'), ('VENTALV', 'INTUBATION'), ('ANAPHYLAXIS', 'HISTORY'), ('ARTCO2', 'EXPCO2'), ('ARTCO2', 'HR'), ('ARTCO2', 'CATECHOL'), ('ARTCO2', 'TPR'), ('SHUNT', 'SAO2'), ('ERRCAUTER', 'HRSAT'), ('ERRCAUTER', 'HREKG'), ('LVFAILURE', 'HISTORY'), ('LVFAILURE', 'STROKEVOLUME'), ('LVFAILURE', 'HYPOVOLEMIA'), ('FIO2', 'PVSAT'), ('KINKEDTUBE', 'PRESS'), ('KINKEDTUBE', 'MINVOL'), ('KINKEDTUBE', 'VENTALV'), ('TPR', 'ANAPHYLAXIS'), ('TPR', 'BP'), ('CO', 'TPR'), ('CO', 'BP'), ('VENTLUNG', 'EXPCO2'), ('VENTLUNG', 'INTUBATION'), ('VENTLUNG', 'PRESS'), ('MINVOL', 'VENTALV'), ('MINVOL', 'VENTLUNG'), ('MINVOL', 'INTUBATION'), ('VENTTUBE', 'VENTMACH'), ('VENTTUBE', 'MINVOL'), ('VENTTUBE', 'PRESS'), ('VENTTUBE', 'VENTALV'), ('VENTTUBE', 'VENTLUNG'), ('PULMEMBOLUS', 'SHUNT'), ('PULMEMBOLUS', 'PAP'), ('PULMEMBOLUS', 'VENTALV'), ('CVP', 'LVEDVOLUME')]\n",
      "CPDs: [<TabularCPD representing P(MINVOLSET:3 | VENTMACH:4) at 0x2637b90e330>, <TabularCPD representing P(STROKEVOLUME:3 | LVEDVOLUME:3, LVFAILURE:2) at 0x2637b902cc0>, <TabularCPD representing P(PVSAT:3 | FIO2:2, VENTALV:4) at 0x2637b90ea50>, <TabularCPD representing P(INSUFFANESTH:2) at 0x26379cd7320>, <TabularCPD representing P(HRSAT:3 | ERRCAUTER:2, HR:3) at 0x2637b911220>, <TabularCPD representing P(EXPCO2:4 | ARTCO2:3, VENTLUNG:4) at 0x2637b910680>, <TabularCPD representing P(INTUBATION:3 | MINVOL:4, PVSAT:3, VENTALV:4, VENTLUNG:4) at 0x2637b911760>, <TabularCPD representing P(BP:3 | CO:3, HR:3, TPR:3) at 0x2637b9101d0>, <TabularCPD representing P(HR:3 | ARTCO2:3) at 0x2637b911a90>, <TabularCPD representing P(PCWP:3 | LVEDVOLUME:3) at 0x2637bade4b0>, <TabularCPD representing P(DISCONNECT:2) at 0x2637b9133b0>, <TabularCPD representing P(HISTORY:2 | ANAPHYLAXIS:2, LVFAILURE:2) at 0x2637bade720>, <TabularCPD representing P(HREKG:3 | ERRCAUTER:2, HR:3) at 0x2637badddc0>, <TabularCPD representing P(LVEDVOLUME:3 | CVP:3) at 0x2637bade450>, <TabularCPD representing P(VENTMACH:4 | DISCONNECT:2, VENTTUBE:4) at 0x2637baddb50>, <TabularCPD representing P(ERRLOWOUTPUT:2) at 0x2637b8f6e10>, <TabularCPD representing P(CATECHOL:2 | ARTCO2:3, HR:3) at 0x2637bade7e0>, <TabularCPD representing P(VENTALV:4 | KINKEDTUBE:2, MINVOL:4, PULMEMBOLUS:2, VENTTUBE:4) at 0x2637badeb10>, <TabularCPD representing P(ANAPHYLAXIS:2 | TPR:3) at 0x2637baddaf0>, <TabularCPD representing P(ARTCO2:3 | VENTALV:4) at 0x2637bade600>, <TabularCPD representing P(PRESS:4 | INTUBATION:3, KINKEDTUBE:2, VENTLUNG:4, VENTTUBE:4) at 0x2637baded80>, <TabularCPD representing P(SHUNT:2 | INTUBATION:3, PULMEMBOLUS:2) at 0x2637bade1b0>, <TabularCPD representing P(SAO2:3 | PVSAT:3, SHUNT:2) at 0x2637badee10>, <TabularCPD representing P(ERRCAUTER:2) at 0x2637b90c530>, <TabularCPD representing P(LVFAILURE:2 | LVEDVOLUME:3) at 0x2637bade000>, <TabularCPD representing P(HYPOVOLEMIA:2 | LVEDVOLUME:3, LVFAILURE:2, STROKEVOLUME:3) at 0x2637b7ef410>, <TabularCPD representing P(FIO2:2) at 0x2637b7e9820>, <TabularCPD representing P(KINKEDTUBE:2) at 0x2637b858200>, <TabularCPD representing P(TPR:3 | ARTCO2:3, CATECHOL:2, CO:3, HR:3) at 0x2637badf080>, <TabularCPD representing P(CO:3 | HR:3, STROKEVOLUME:3) at 0x2637badf020>, <TabularCPD representing P(VENTLUNG:4 | MINVOL:4, PVSAT:3, VENTALV:4, VENTTUBE:4) at 0x2637badcef0>, <TabularCPD representing P(MINVOL:4 | KINKEDTUBE:2, VENTTUBE:4) at 0x2637b909280>, <TabularCPD representing P(VENTTUBE:4 | DISCONNECT:2) at 0x2637b90b7a0>, <TabularCPD representing P(PULMEMBOLUS:2) at 0x2637b909df0>, <TabularCPD representing P(PAP:3 | PULMEMBOLUS:2) at 0x2637b90b470>, <TabularCPD representing P(HRBP:3 | ERRLOWOUTPUT:2, HR:3) at 0x2637b9173e0>, <TabularCPD representing P(CVP:3) at 0x2637b9036e0>]\n",
      "Bayesian Network: BayesianModel with 37 nodes and 61 edges\n"
     ]
    }
   ],
   "source": [
    "import pandas as pd\n",
    "import numpy as np\n",
    "from pgmpy.estimators import K2Score\n",
    "from pgmpy.models import BayesianModel\n",
    "from pgmpy.estimators import HillClimbSearch, BayesianEstimator\n",
    "import random\n",
    "\n",
    "def load_data(DATA_CSV):\n",
    "    D = pd.read_csv(DATA_CSV)\n",
    "    V = D.columns\n",
    "    N = len(D.index)\n",
    "    V_CARD = {v: len(D[v].unique()) for v in V}\n",
    "    #print(f'ARQUIVO: {D}')\n",
    "    #print(f'VARIÁVEIS: {V}')\n",
    "    #print(f'NÚMERO DE AMOSTRAS: {N}')\n",
    "    #print(f'MAPEAMENTO DAS VARIÁVEIS COM NÚMEROS DE VALORES ÚNICOS: {V_CARD}')\n",
    "    return D, V, N, V_CARD\n",
    "\n",
    "def calcular_k2(D):\n",
    "    k2score = K2Score(D)\n",
    "    return k2score\n",
    "\n",
    "def estimar_modelo(D, scoring_method):\n",
    "    #print(f'Ordenação dentro do estimar_modelo: {D}')\n",
    "    print(f'Lista de variáveis dentro do estimar_modelo: {V}')\n",
    "    estimator_k2 = HillClimbSearch(D)\n",
    "    max_possible_edges = len(V) * (len(V) - 1) / 2\n",
    "    max_iter = min(max_possible_edges, 1000)\n",
    "    best_model = estimator_k2.estimate(scoring_method=K2Score(D), tabu_length=50, max_indegree=4, max_iter=max_iter)\n",
    "    k2score = calcular_k2(D)\n",
    "    k2_score = k2score.score(best_model)\n",
    "    print(f'Valor do score K2: {k2_score}')\n",
    "    return best_model\n",
    "\n",
    "def tabular_cpd(best_model, D):\n",
    "    bayesian_network = BayesianModel(best_model)\n",
    "    estimator = BayesianEstimator(bayesian_network, D)\n",
    "    cpds = []\n",
    "    for node in bayesian_network.nodes():\n",
    "        cpd = estimator.estimate_cpd(node)\n",
    "        cpds.append(cpd)\n",
    "    return cpds, bayesian_network\n",
    "\n",
    "def generate_shuffled_csv(DATA_CSV):\n",
    "    D = pd.read_csv(DATA_CSV)\n",
    "    D_shuffled_columns = D.sample(frac=1, axis=1)\n",
    "    D_shuffled_columns.to_csv('data_shuffled.csv', index=False)\n",
    "\n",
    "# Caminho do arquivo CSV original\n",
    "DATA_CSV = 'alarm.csv'\n",
    "\n",
    "# Gerar um novo arquivo CSV com os dados embaralhados\n",
    "generate_shuffled_csv(DATA_CSV)\n",
    "\n",
    "# Carregar dados\n",
    "D, V, N, V_CARD = load_data('data_shuffled.csv')\n",
    "\n",
    "# Estima a estrutura do modelo com o K2\n",
    "#print(f'Ordem das variáveis antes de estimar: {D}')\n",
    "print(f'Ordem das variáveis antes de estimar: {V}')\n",
    "best_model = estimar_modelo(D, 'k2score')\n",
    "print(f'Ordem das variáveis: {V}')\n",
    "print(f'Melhor modelo: {best_model}')\n",
    "\n",
    "# Exibe a estrutura do modelo\n",
    "structure = (best_model.edges)\n",
    "print(f'Estrutura da rede: {structure}')\n",
    "\n",
    "# Estima as CPDs e passa a bayesian_network\n",
    "cpds, bayesian_network = tabular_cpd(best_model, D)\n",
    "print(f'CPDs: {cpds}')\n",
    "print(f'Bayesian Network: {bayesian_network}')\n"
   ]
  },
  {
   "cell_type": "markdown",
   "metadata": {},
   "source": [
    "-106412.82447895245\n",
    "-106412.82447895246\n",
    "-106412.82447895246\n"
   ]
  }
 ],
 "metadata": {
  "kernelspec": {
   "display_name": "Python 3",
   "language": "python",
   "name": "python3"
  },
  "language_info": {
   "codemirror_mode": {
    "name": "ipython",
    "version": 3
   },
   "file_extension": ".py",
   "mimetype": "text/x-python",
   "name": "python",
   "nbconvert_exporter": "python",
   "pygments_lexer": "ipython3",
   "version": "3.12.3"
  }
 },
 "nbformat": 4,
 "nbformat_minor": 2
}
