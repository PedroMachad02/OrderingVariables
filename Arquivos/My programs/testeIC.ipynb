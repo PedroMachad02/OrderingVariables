{
  "nbformat": 4,
  "nbformat_minor": 0,
  "metadata": {
    "colab": {
      "provenance": []
    },
    "kernelspec": {
      "name": "python3",
      "display_name": "Python 3"
    },
    "language_info": {
      "name": "python"
    },
    "widgets": {
      "application/vnd.jupyter.widget-state+json": {
        "e60eec5dff49473d9b77aff1000c23b7": {
          "model_module": "@jupyter-widgets/controls",
          "model_name": "HBoxModel",
          "model_module_version": "1.5.0",
          "state": {
            "_dom_classes": [],
            "_model_module": "@jupyter-widgets/controls",
            "_model_module_version": "1.5.0",
            "_model_name": "HBoxModel",
            "_view_count": null,
            "_view_module": "@jupyter-widgets/controls",
            "_view_module_version": "1.5.0",
            "_view_name": "HBoxView",
            "box_style": "",
            "children": [
              "IPY_MODEL_a0c1a06448cf47268f3f2b16dafe06bc",
              "IPY_MODEL_2d53bcff3df14bbe996d7d116ccb3e28",
              "IPY_MODEL_b3b91eded49d4ba2a1dd70d823ef3888"
            ],
            "layout": "IPY_MODEL_130f07dce3504e7a8a98623e4c7b10af"
          }
        },
        "a0c1a06448cf47268f3f2b16dafe06bc": {
          "model_module": "@jupyter-widgets/controls",
          "model_name": "HTMLModel",
          "model_module_version": "1.5.0",
          "state": {
            "_dom_classes": [],
            "_model_module": "@jupyter-widgets/controls",
            "_model_module_version": "1.5.0",
            "_model_name": "HTMLModel",
            "_view_count": null,
            "_view_module": "@jupyter-widgets/controls",
            "_view_module_version": "1.5.0",
            "_view_name": "HTMLView",
            "description": "",
            "description_tooltip": null,
            "layout": "IPY_MODEL_be678bfaecda47c8a09e79dcf9eb014e",
            "placeholder": "​",
            "style": "IPY_MODEL_03c5a974bfcd4713861170f66578d9de",
            "value": "  0%"
          }
        },
        "2d53bcff3df14bbe996d7d116ccb3e28": {
          "model_module": "@jupyter-widgets/controls",
          "model_name": "FloatProgressModel",
          "model_module_version": "1.5.0",
          "state": {
            "_dom_classes": [],
            "_model_module": "@jupyter-widgets/controls",
            "_model_module_version": "1.5.0",
            "_model_name": "FloatProgressModel",
            "_view_count": null,
            "_view_module": "@jupyter-widgets/controls",
            "_view_module_version": "1.5.0",
            "_view_name": "ProgressView",
            "bar_style": "danger",
            "description": "",
            "description_tooltip": null,
            "layout": "IPY_MODEL_7703c1a3e20348bc963dd7a3b2f3e7e6",
            "max": 1000000,
            "min": 0,
            "orientation": "horizontal",
            "style": "IPY_MODEL_ed80d2f618434b329dd75c3ff4fd894b",
            "value": 0
          }
        },
        "b3b91eded49d4ba2a1dd70d823ef3888": {
          "model_module": "@jupyter-widgets/controls",
          "model_name": "HTMLModel",
          "model_module_version": "1.5.0",
          "state": {
            "_dom_classes": [],
            "_model_module": "@jupyter-widgets/controls",
            "_model_module_version": "1.5.0",
            "_model_name": "HTMLModel",
            "_view_count": null,
            "_view_module": "@jupyter-widgets/controls",
            "_view_module_version": "1.5.0",
            "_view_name": "HTMLView",
            "description": "",
            "description_tooltip": null,
            "layout": "IPY_MODEL_25cf26ae621f4b4abe7b2b7bc3c92fd4",
            "placeholder": "​",
            "style": "IPY_MODEL_2a8df19181ba4fafa09cbf7912e76944",
            "value": " 0/1000000 [00:00&lt;?, ?it/s]"
          }
        },
        "130f07dce3504e7a8a98623e4c7b10af": {
          "model_module": "@jupyter-widgets/base",
          "model_name": "LayoutModel",
          "model_module_version": "1.2.0",
          "state": {
            "_model_module": "@jupyter-widgets/base",
            "_model_module_version": "1.2.0",
            "_model_name": "LayoutModel",
            "_view_count": null,
            "_view_module": "@jupyter-widgets/base",
            "_view_module_version": "1.2.0",
            "_view_name": "LayoutView",
            "align_content": null,
            "align_items": null,
            "align_self": null,
            "border": null,
            "bottom": null,
            "display": null,
            "flex": null,
            "flex_flow": null,
            "grid_area": null,
            "grid_auto_columns": null,
            "grid_auto_flow": null,
            "grid_auto_rows": null,
            "grid_column": null,
            "grid_gap": null,
            "grid_row": null,
            "grid_template_areas": null,
            "grid_template_columns": null,
            "grid_template_rows": null,
            "height": null,
            "justify_content": null,
            "justify_items": null,
            "left": null,
            "margin": null,
            "max_height": null,
            "max_width": null,
            "min_height": null,
            "min_width": null,
            "object_fit": null,
            "object_position": null,
            "order": null,
            "overflow": null,
            "overflow_x": null,
            "overflow_y": null,
            "padding": null,
            "right": null,
            "top": null,
            "visibility": null,
            "width": null
          }
        },
        "be678bfaecda47c8a09e79dcf9eb014e": {
          "model_module": "@jupyter-widgets/base",
          "model_name": "LayoutModel",
          "model_module_version": "1.2.0",
          "state": {
            "_model_module": "@jupyter-widgets/base",
            "_model_module_version": "1.2.0",
            "_model_name": "LayoutModel",
            "_view_count": null,
            "_view_module": "@jupyter-widgets/base",
            "_view_module_version": "1.2.0",
            "_view_name": "LayoutView",
            "align_content": null,
            "align_items": null,
            "align_self": null,
            "border": null,
            "bottom": null,
            "display": null,
            "flex": null,
            "flex_flow": null,
            "grid_area": null,
            "grid_auto_columns": null,
            "grid_auto_flow": null,
            "grid_auto_rows": null,
            "grid_column": null,
            "grid_gap": null,
            "grid_row": null,
            "grid_template_areas": null,
            "grid_template_columns": null,
            "grid_template_rows": null,
            "height": null,
            "justify_content": null,
            "justify_items": null,
            "left": null,
            "margin": null,
            "max_height": null,
            "max_width": null,
            "min_height": null,
            "min_width": null,
            "object_fit": null,
            "object_position": null,
            "order": null,
            "overflow": null,
            "overflow_x": null,
            "overflow_y": null,
            "padding": null,
            "right": null,
            "top": null,
            "visibility": null,
            "width": null
          }
        },
        "03c5a974bfcd4713861170f66578d9de": {
          "model_module": "@jupyter-widgets/controls",
          "model_name": "DescriptionStyleModel",
          "model_module_version": "1.5.0",
          "state": {
            "_model_module": "@jupyter-widgets/controls",
            "_model_module_version": "1.5.0",
            "_model_name": "DescriptionStyleModel",
            "_view_count": null,
            "_view_module": "@jupyter-widgets/base",
            "_view_module_version": "1.2.0",
            "_view_name": "StyleView",
            "description_width": ""
          }
        },
        "7703c1a3e20348bc963dd7a3b2f3e7e6": {
          "model_module": "@jupyter-widgets/base",
          "model_name": "LayoutModel",
          "model_module_version": "1.2.0",
          "state": {
            "_model_module": "@jupyter-widgets/base",
            "_model_module_version": "1.2.0",
            "_model_name": "LayoutModel",
            "_view_count": null,
            "_view_module": "@jupyter-widgets/base",
            "_view_module_version": "1.2.0",
            "_view_name": "LayoutView",
            "align_content": null,
            "align_items": null,
            "align_self": null,
            "border": null,
            "bottom": null,
            "display": null,
            "flex": null,
            "flex_flow": null,
            "grid_area": null,
            "grid_auto_columns": null,
            "grid_auto_flow": null,
            "grid_auto_rows": null,
            "grid_column": null,
            "grid_gap": null,
            "grid_row": null,
            "grid_template_areas": null,
            "grid_template_columns": null,
            "grid_template_rows": null,
            "height": null,
            "justify_content": null,
            "justify_items": null,
            "left": null,
            "margin": null,
            "max_height": null,
            "max_width": null,
            "min_height": null,
            "min_width": null,
            "object_fit": null,
            "object_position": null,
            "order": null,
            "overflow": null,
            "overflow_x": null,
            "overflow_y": null,
            "padding": null,
            "right": null,
            "top": null,
            "visibility": null,
            "width": null
          }
        },
        "ed80d2f618434b329dd75c3ff4fd894b": {
          "model_module": "@jupyter-widgets/controls",
          "model_name": "ProgressStyleModel",
          "model_module_version": "1.5.0",
          "state": {
            "_model_module": "@jupyter-widgets/controls",
            "_model_module_version": "1.5.0",
            "_model_name": "ProgressStyleModel",
            "_view_count": null,
            "_view_module": "@jupyter-widgets/base",
            "_view_module_version": "1.2.0",
            "_view_name": "StyleView",
            "bar_color": null,
            "description_width": ""
          }
        },
        "25cf26ae621f4b4abe7b2b7bc3c92fd4": {
          "model_module": "@jupyter-widgets/base",
          "model_name": "LayoutModel",
          "model_module_version": "1.2.0",
          "state": {
            "_model_module": "@jupyter-widgets/base",
            "_model_module_version": "1.2.0",
            "_model_name": "LayoutModel",
            "_view_count": null,
            "_view_module": "@jupyter-widgets/base",
            "_view_module_version": "1.2.0",
            "_view_name": "LayoutView",
            "align_content": null,
            "align_items": null,
            "align_self": null,
            "border": null,
            "bottom": null,
            "display": null,
            "flex": null,
            "flex_flow": null,
            "grid_area": null,
            "grid_auto_columns": null,
            "grid_auto_flow": null,
            "grid_auto_rows": null,
            "grid_column": null,
            "grid_gap": null,
            "grid_row": null,
            "grid_template_areas": null,
            "grid_template_columns": null,
            "grid_template_rows": null,
            "height": null,
            "justify_content": null,
            "justify_items": null,
            "left": null,
            "margin": null,
            "max_height": null,
            "max_width": null,
            "min_height": null,
            "min_width": null,
            "object_fit": null,
            "object_position": null,
            "order": null,
            "overflow": null,
            "overflow_x": null,
            "overflow_y": null,
            "padding": null,
            "right": null,
            "top": null,
            "visibility": null,
            "width": null
          }
        },
        "2a8df19181ba4fafa09cbf7912e76944": {
          "model_module": "@jupyter-widgets/controls",
          "model_name": "DescriptionStyleModel",
          "model_module_version": "1.5.0",
          "state": {
            "_model_module": "@jupyter-widgets/controls",
            "_model_module_version": "1.5.0",
            "_model_name": "DescriptionStyleModel",
            "_view_count": null,
            "_view_module": "@jupyter-widgets/base",
            "_view_module_version": "1.2.0",
            "_view_name": "StyleView",
            "description_width": ""
          }
        }
      }
    }
  },
  "cells": [
    {
      "cell_type": "code",
      "source": [
        "!pip install boruta"
      ],
      "metadata": {
        "colab": {
          "base_uri": "https://localhost:8080/"
        },
        "id": "myEWTk0Ig27Y",
        "outputId": "a93ac062-0cb4-4b86-854c-9290d5bdadb3"
      },
      "execution_count": null,
      "outputs": [
        {
          "output_type": "stream",
          "name": "stdout",
          "text": [
            "Collecting boruta\n",
            "  Downloading Boruta-0.3-py3-none-any.whl (56 kB)\n",
            "\u001b[?25l     \u001b[90m━━━━━━━━━━━━━━━━━━━━━━━━━━━━━━━━━━━━━━━━\u001b[0m \u001b[32m0.0/56.6 kB\u001b[0m \u001b[31m?\u001b[0m eta \u001b[36m-:--:--\u001b[0m\r\u001b[2K     \u001b[90m━━━━━━━━━━━━━━━━━━━━━━━━━━━━━━━━━━━━━━━━\u001b[0m \u001b[32m56.6/56.6 kB\u001b[0m \u001b[31m3.3 MB/s\u001b[0m eta \u001b[36m0:00:00\u001b[0m\n",
            "\u001b[?25hRequirement already satisfied: numpy>=1.10.4 in /usr/local/lib/python3.10/dist-packages (from boruta) (1.23.5)\n",
            "Requirement already satisfied: scikit-learn>=0.17.1 in /usr/local/lib/python3.10/dist-packages (from boruta) (1.2.2)\n",
            "Requirement already satisfied: scipy>=0.17.0 in /usr/local/lib/python3.10/dist-packages (from boruta) (1.11.4)\n",
            "Requirement already satisfied: joblib>=1.1.1 in /usr/local/lib/python3.10/dist-packages (from scikit-learn>=0.17.1->boruta) (1.3.2)\n",
            "Requirement already satisfied: threadpoolctl>=2.0.0 in /usr/local/lib/python3.10/dist-packages (from scikit-learn>=0.17.1->boruta) (3.2.0)\n",
            "Installing collected packages: boruta\n",
            "Successfully installed boruta-0.3\n"
          ]
        }
      ]
    },
    {
      "cell_type": "code",
      "source": [
        "!pip install pgmpy"
      ],
      "metadata": {
        "colab": {
          "base_uri": "https://localhost:8080/"
        },
        "id": "v5kuNyqkhBny",
        "outputId": "9859c03d-e64e-4a0c-c39f-085fc0b6017e"
      },
      "execution_count": null,
      "outputs": [
        {
          "output_type": "stream",
          "name": "stdout",
          "text": [
            "Collecting pgmpy\n",
            "  Downloading pgmpy-0.1.24-py3-none-any.whl (2.0 MB)\n",
            "\u001b[2K     \u001b[90m━━━━━━━━━━━━━━━━━━━━━━━━━━━━━━━━━━━━━━━━\u001b[0m \u001b[32m2.0/2.0 MB\u001b[0m \u001b[31m11.9 MB/s\u001b[0m eta \u001b[36m0:00:00\u001b[0m\n",
            "\u001b[?25hRequirement already satisfied: networkx in /usr/local/lib/python3.10/dist-packages (from pgmpy) (3.2.1)\n",
            "Requirement already satisfied: numpy in /usr/local/lib/python3.10/dist-packages (from pgmpy) (1.23.5)\n",
            "Requirement already satisfied: scipy in /usr/local/lib/python3.10/dist-packages (from pgmpy) (1.11.4)\n",
            "Requirement already satisfied: scikit-learn in /usr/local/lib/python3.10/dist-packages (from pgmpy) (1.2.2)\n",
            "Requirement already satisfied: pandas in /usr/local/lib/python3.10/dist-packages (from pgmpy) (1.5.3)\n",
            "Requirement already satisfied: pyparsing in /usr/local/lib/python3.10/dist-packages (from pgmpy) (3.1.1)\n",
            "Requirement already satisfied: torch in /usr/local/lib/python3.10/dist-packages (from pgmpy) (2.1.0+cu121)\n",
            "Requirement already satisfied: statsmodels in /usr/local/lib/python3.10/dist-packages (from pgmpy) (0.14.1)\n",
            "Requirement already satisfied: tqdm in /usr/local/lib/python3.10/dist-packages (from pgmpy) (4.66.1)\n",
            "Requirement already satisfied: joblib in /usr/local/lib/python3.10/dist-packages (from pgmpy) (1.3.2)\n",
            "Requirement already satisfied: opt-einsum in /usr/local/lib/python3.10/dist-packages (from pgmpy) (3.3.0)\n",
            "Requirement already satisfied: python-dateutil>=2.8.1 in /usr/local/lib/python3.10/dist-packages (from pandas->pgmpy) (2.8.2)\n",
            "Requirement already satisfied: pytz>=2020.1 in /usr/local/lib/python3.10/dist-packages (from pandas->pgmpy) (2023.4)\n",
            "Requirement already satisfied: threadpoolctl>=2.0.0 in /usr/local/lib/python3.10/dist-packages (from scikit-learn->pgmpy) (3.2.0)\n",
            "Requirement already satisfied: patsy>=0.5.4 in /usr/local/lib/python3.10/dist-packages (from statsmodels->pgmpy) (0.5.6)\n",
            "Requirement already satisfied: packaging>=21.3 in /usr/local/lib/python3.10/dist-packages (from statsmodels->pgmpy) (23.2)\n",
            "Requirement already satisfied: filelock in /usr/local/lib/python3.10/dist-packages (from torch->pgmpy) (3.13.1)\n",
            "Requirement already satisfied: typing-extensions in /usr/local/lib/python3.10/dist-packages (from torch->pgmpy) (4.9.0)\n",
            "Requirement already satisfied: sympy in /usr/local/lib/python3.10/dist-packages (from torch->pgmpy) (1.12)\n",
            "Requirement already satisfied: jinja2 in /usr/local/lib/python3.10/dist-packages (from torch->pgmpy) (3.1.3)\n",
            "Requirement already satisfied: fsspec in /usr/local/lib/python3.10/dist-packages (from torch->pgmpy) (2023.6.0)\n",
            "Requirement already satisfied: triton==2.1.0 in /usr/local/lib/python3.10/dist-packages (from torch->pgmpy) (2.1.0)\n",
            "Requirement already satisfied: six in /usr/local/lib/python3.10/dist-packages (from patsy>=0.5.4->statsmodels->pgmpy) (1.16.0)\n",
            "Requirement already satisfied: MarkupSafe>=2.0 in /usr/local/lib/python3.10/dist-packages (from jinja2->torch->pgmpy) (2.1.5)\n",
            "Requirement already satisfied: mpmath>=0.19 in /usr/local/lib/python3.10/dist-packages (from sympy->torch->pgmpy) (1.3.0)\n",
            "Installing collected packages: pgmpy\n",
            "Successfully installed pgmpy-0.1.24\n"
          ]
        }
      ]
    },
    {
      "cell_type": "code",
      "source": [
        "!pip install scikit-learn"
      ],
      "metadata": {
        "colab": {
          "base_uri": "https://localhost:8080/"
        },
        "id": "KQpvq7tkhk1E",
        "outputId": "b3e8fde9-7d92-446d-a058-b4e6b7a769e1"
      },
      "execution_count": null,
      "outputs": [
        {
          "output_type": "stream",
          "name": "stdout",
          "text": [
            "Requirement already satisfied: scikit-learn in /usr/local/lib/python3.10/dist-packages (1.2.2)\n",
            "Requirement already satisfied: numpy>=1.17.3 in /usr/local/lib/python3.10/dist-packages (from scikit-learn) (1.23.5)\n",
            "Requirement already satisfied: scipy>=1.3.2 in /usr/local/lib/python3.10/dist-packages (from scikit-learn) (1.11.4)\n",
            "Requirement already satisfied: joblib>=1.1.1 in /usr/local/lib/python3.10/dist-packages (from scikit-learn) (1.3.2)\n",
            "Requirement already satisfied: threadpoolctl>=2.0.0 in /usr/local/lib/python3.10/dist-packages (from scikit-learn) (3.2.0)\n"
          ]
        }
      ]
    },
    {
      "cell_type": "code",
      "source": [
        "import pandas as pd\n",
        "import numpy as np\n",
        "\n",
        "# Criar dados fictícios com relação linear entre 'Estudo' e 'Tempo_de_Sono' e 'Nota'\n",
        "np.random.seed(0)\n",
        "n_samples = 1000\n",
        "estudo = np.random.randint(1, 11, size=n_samples)\n",
        "tempo_de_sono = np.random.randint(1, 11, size=n_samples)\n",
        "nota = 50 + 3 * estudo + 2 * tempo_de_sono + np.random.normal(0, 5, size=n_samples)\n",
        "\n",
        "# Criar DataFrame\n",
        "data = pd.DataFrame({'Estudo': estudo, 'Tempo_de_Sono': tempo_de_sono, 'Nota': nota})\n",
        "\n",
        "# Exibir primeiras linhas dos dados\n",
        "print(data.head())"
      ],
      "metadata": {
        "colab": {
          "base_uri": "https://localhost:8080/"
        },
        "id": "ao1dDSPTmruY",
        "outputId": "429f619c-704a-4884-be3d-6fffa0bd28f7"
      },
      "execution_count": null,
      "outputs": [
        {
          "output_type": "stream",
          "name": "stdout",
          "text": [
            "   Estudo  Tempo_de_Sono       Nota\n",
            "0       6             10  88.957254\n",
            "1       1              1  59.402556\n",
            "2       4             10  79.729598\n",
            "3       4              1  64.429760\n",
            "4       8              3  83.759733\n"
          ]
        }
      ]
    },
    {
      "cell_type": "code",
      "source": [
        "from boruta import BorutaPy\n",
        "from sklearn.ensemble import RandomForestRegressor\n",
        "from pgmpy.estimators import HillClimbSearch, K2Score\n",
        "from pgmpy.models import BayesianModel\n",
        "\n",
        "# Separe os recursos e a variável de destino\n",
        "X = data[['Estudo', 'Tempo_de_Sono']]\n",
        "y = data['Nota']\n",
        "\n",
        "# Aplicar Boruta para seleção de características\n",
        "boruta_selector = BorutaPy(RandomForestRegressor(), n_estimators='auto', verbose=2)\n",
        "boruta_selector.fit(X.values, y.values)\n",
        "\n",
        "# Imprimir as variáveis selecionadas pelo Boruta\n",
        "selected_features = X.columns[boruta_selector.support_]\n",
        "print(\"Variáveis selecionadas pelo Boruta:\")\n",
        "print(selected_features)\n",
        "\n",
        "# Use apenas as características selecionadas pelo Boruta\n",
        "X_selected = X[selected_features]\n",
        "\n",
        "# Aplique o algoritmo HillClimbSearch para inferir a estrutura da rede Bayesiana\n",
        "hc = HillClimbSearch(X_selected)\n",
        "best_model = hc.estimate(scoring_method=K2Score(X_selected))\n",
        "\n",
        "# Imprima as arestas do modelo resultante\n",
        "print(\"\\nEstrutura da Rede Bayesiana:\")\n",
        "print(best_model.edges())\n"
      ],
      "metadata": {
        "colab": {
          "base_uri": "https://localhost:8080/",
          "height": 830,
          "referenced_widgets": [
            "e60eec5dff49473d9b77aff1000c23b7",
            "a0c1a06448cf47268f3f2b16dafe06bc",
            "2d53bcff3df14bbe996d7d116ccb3e28",
            "b3b91eded49d4ba2a1dd70d823ef3888",
            "130f07dce3504e7a8a98623e4c7b10af",
            "be678bfaecda47c8a09e79dcf9eb014e",
            "03c5a974bfcd4713861170f66578d9de",
            "7703c1a3e20348bc963dd7a3b2f3e7e6",
            "ed80d2f618434b329dd75c3ff4fd894b",
            "25cf26ae621f4b4abe7b2b7bc3c92fd4",
            "2a8df19181ba4fafa09cbf7912e76944"
          ]
        },
        "id": "f7XbXuJAmu0y",
        "outputId": "3958d909-1cc9-4a41-ab54-6d3d66ca0e94"
      },
      "execution_count": null,
      "outputs": [
        {
          "output_type": "stream",
          "name": "stdout",
          "text": [
            "Iteration: \t1 / 100\n",
            "Confirmed: \t0\n",
            "Tentative: \t2\n",
            "Rejected: \t0\n",
            "Iteration: \t2 / 100\n",
            "Confirmed: \t0\n",
            "Tentative: \t2\n",
            "Rejected: \t0\n",
            "Iteration: \t3 / 100\n",
            "Confirmed: \t0\n",
            "Tentative: \t2\n",
            "Rejected: \t0\n",
            "Iteration: \t4 / 100\n",
            "Confirmed: \t0\n",
            "Tentative: \t2\n",
            "Rejected: \t0\n",
            "Iteration: \t5 / 100\n",
            "Confirmed: \t0\n",
            "Tentative: \t2\n",
            "Rejected: \t0\n",
            "Iteration: \t6 / 100\n",
            "Confirmed: \t0\n",
            "Tentative: \t2\n",
            "Rejected: \t0\n",
            "Iteration: \t7 / 100\n",
            "Confirmed: \t0\n",
            "Tentative: \t2\n",
            "Rejected: \t0\n",
            "Iteration: \t8 / 100\n",
            "Confirmed: \t2\n",
            "Tentative: \t0\n",
            "Rejected: \t0\n",
            "\n",
            "\n",
            "BorutaPy finished running.\n",
            "\n",
            "Iteration: \t9 / 100\n",
            "Confirmed: \t2\n",
            "Tentative: \t0\n",
            "Rejected: \t0\n",
            "Variáveis selecionadas pelo Boruta:\n",
            "Index(['Estudo', 'Tempo_de_Sono'], dtype='object')\n"
          ]
        },
        {
          "output_type": "display_data",
          "data": {
            "text/plain": [
              "  0%|          | 0/1000000 [00:00<?, ?it/s]"
            ],
            "application/vnd.jupyter.widget-view+json": {
              "version_major": 2,
              "version_minor": 0,
              "model_id": "e60eec5dff49473d9b77aff1000c23b7"
            }
          },
          "metadata": {}
        },
        {
          "output_type": "stream",
          "name": "stdout",
          "text": [
            "\n",
            "Estrutura da Rede Bayesiana:\n",
            "[]\n"
          ]
        }
      ]
    },
    {
      "cell_type": "code",
      "source": [
        "import pandas as pd\n",
        "import numpy as np\n",
        "\n",
        "import pandas as pd\n",
        "import numpy as np\n",
        "\n",
        "def calculate_likelihood(data, structure):\n",
        "    likelihood = 1.0\n",
        "\n",
        "    for node in structure:\n",
        "        if not structure[node]:\n",
        "            counts = data[node].value_counts()\n",
        "            probabilities = counts / len(data)  # Correção aqui\n",
        "            for value in probabilities:\n",
        "                likelihood *= value\n",
        "        else:\n",
        "            parents = structure[node]\n",
        "            cpd = data.groupby(parents + [node]).size() / len(data)\n",
        "            likelihood *= cpd.prod()  # Simplificação aqui\n",
        "\n",
        "    return likelihood\n",
        "\n",
        "def calculate_score(data, structure):\n",
        "    num_nodes = len(structure)\n",
        "    num_edges = sum(len(parents) for parents in structure.values()) // 2\n",
        "    num_samples = len(data)\n",
        "\n",
        "    likelihood = calculate_likelihood(data, structure)\n",
        "    complexity_penalty = 0.5 * np.log(num_samples) * num_edges\n",
        "\n",
        "    score = likelihood - complexity_penalty\n",
        "    return score\n",
        "\n",
        "\n",
        "def find_neighbors(node, structure):\n",
        "    neighbors = []\n",
        "    for target_node, parents in structure.items():\n",
        "        if node in parents:\n",
        "            neighbors.append(target_node)\n",
        "    return neighbors\n",
        "\n",
        "def k2_algorithm(data, max_parents):\n",
        "    num_nodes = len(data.columns)\n",
        "    structure = {node: [] for node in data.columns}\n",
        "    total_score = 0\n",
        "\n",
        "    for node in data.columns:\n",
        "        candidate_parents = [n for n in data.columns if n != node]\n",
        "        parents_added = 0\n",
        "\n",
        "        while parents_added < max_parents:\n",
        "            best_parent = None\n",
        "            best_score = -np.inf\n",
        "\n",
        "            for candidate_parent in candidate_parents:\n",
        "                if candidate_parent not in structure[node] and node not in structure[candidate_parent]:\n",
        "                    new_structure = {k: v[:] for k, v in structure.items()}\n",
        "                    new_structure[node].append(candidate_parent)\n",
        "                    score = calculate_score(data, new_structure)\n",
        "\n",
        "                    if score > best_score:\n",
        "                        best_score = score\n",
        "                        best_parent = candidate_parent\n",
        "\n",
        "            if best_parent is None:\n",
        "                break\n",
        "\n",
        "            structure[node].append(best_parent)\n",
        "            parents_added += 1\n",
        "\n",
        "            # Acumular o score total\n",
        "            total_score += best_score\n",
        "\n",
        "    print(\"Estrutura da Rede Aprendida:\")\n",
        "    for node, parents in structure.items():\n",
        "        print(f\"{node}: {parents}\")\n",
        "\n",
        "    return total_score\n",
        "\n",
        "# Carregar dados do arquivo CSV\n",
        "data = pd.read_csv('teste.csv')\n",
        "\n",
        "# Executar o algoritmo K2 no conjunto de dados\n",
        "total_score = k2_algorithm(data, max_parents=5)\n",
        "\n",
        "# Imprimir o score total\n",
        "print(f'Score Total: {total_score}')\n"
      ],
      "metadata": {
        "colab": {
          "base_uri": "https://localhost:8080/"
        },
        "id": "uVZ2ePaJJAGS",
        "outputId": "aa227729-8d20-4f89-fcd2-6dcc51da67ec"
      },
      "execution_count": null,
      "outputs": [
        {
          "output_type": "stream",
          "name": "stdout",
          "text": [
            "Estrutura da Rede Aprendida:\n",
            "age: ['spectacle-prescrip', 'astigmatism', 'tear-prod-rate', 'contact-lenses']\n",
            "spectacle-prescrip: ['astigmatism', 'tear-prod-rate', 'contact-lenses']\n",
            "astigmatism: ['tear-prod-rate', 'contact-lenses']\n",
            "tear-prod-rate: ['contact-lenses']\n",
            "contact-lenses: []\n",
            "Score Total: -39.72567287208157\n"
          ]
        }
      ]
    },
    {
      "cell_type": "code",
      "source": [
        "import networkx as nx\n",
        "import matplotlib.pyplot as plt\n",
        "\n",
        "# Criar um grafo direcionado\n",
        "G = nx.DiGraph()\n",
        "\n",
        "# Adicionar nós ao grafo\n",
        "for node in learned_structure:\n",
        "    G.add_node(node)\n",
        "\n",
        "# Adicionar arestas ao grafo\n",
        "for node, parents in learned_structure.items():\n",
        "    for parent in parents:\n",
        "        G.add_edge(parent, node)\n",
        "\n",
        "# Plotar o grafo\n",
        "pos = nx.spring_layout(G)  # Layout para visualização\n",
        "nx.draw(G, pos, with_labels=True, node_size=2000, node_color='lightblue', font_size=10, font_weight='bold', arrowsize=20)\n",
        "plt.title('Grafo Direcionado da Rede Aprendida')\n",
        "plt.show()\n"
      ],
      "metadata": {
        "colab": {
          "base_uri": "https://localhost:8080/",
          "height": 539
        },
        "id": "4sOptJ39tBVq",
        "outputId": "d514cfe0-44ef-4632-c30f-51f95e5c3f53"
      },
      "execution_count": null,
      "outputs": [
        {
          "output_type": "display_data",
          "data": {
            "text/plain": [
              "<Figure size 640x480 with 1 Axes>"
            ],
            "image/png": "[encoded data removed]"
          },
          "metadata": {}
        }
      ]
    },
    {
      "cell_type": "code",
      "source": [
        "import pandas as pd\n",
        "import sys\n",
        "from pgmpy.estimators import K2Score\n",
        "from sklearn.preprocessing import LabelEncoder\n",
        "import time\n",
        "import random\n",
        "import networkx as nx\n",
        "import matplotlib.pyplot as plt\n",
        "\n",
        "def load_data(DATA_CSV):\n",
        "    D = pd.read_csv('teste.csv')\n",
        "    D = D.apply(LabelEncoder().fit_transform)\n",
        "\n",
        "    V = D.columns\n",
        "    N = len(D.index)\n",
        "    V_CARD = {v: len(D[v].unique()) for v in V}\n",
        "\n",
        "\n",
        "    print(f'ARQUIVO: {D}')\n",
        "    print(f'VARIÁVEIS: {V}')\n",
        "    print(f'NÚMERO DE AMOSTRAS: {N}')\n",
        "    print(f'MAPEAMENTO DAS VARIÁVEIS COM NÚMEROS DE VALORES ÚNICOS: {V_CARD}')\n",
        "    return D, V, N, V_CARD\n",
        "\n",
        "def predecessors(x, pa, ordering):\n",
        "    pred = []\n",
        "    x_idx = ordering.index(x)\n",
        "    for y in ordering[:x_idx]:\n",
        "        if y not in pa:\n",
        "            pred.append(y)\n",
        "    return pred\n",
        "\n",
        "def K2_algorithm(ordering, max_parents, D):\n",
        "    k2sc = K2Score(D).local_score\n",
        "    PI = {v: [] for v in V}\n",
        "    total_score = 0  # Inicializar o score total\n",
        "\n",
        "    for x in V[1:]:\n",
        "        proceed = True\n",
        "        old_sc = k2sc(x, PI[x])\n",
        "        while proceed and len(PI[x]) < max_parents[x]:\n",
        "            proceed = False\n",
        "            z, new_sc = None, None\n",
        "            pred = predecessors(x, PI[x], ordering)\n",
        "            if pred != []:\n",
        "                z, new_sc = max([(y, k2sc(x, PI[x] + [y])) for y in pred], key=lambda t: t[1])\n",
        "                if new_sc > old_sc:\n",
        "                    old_sc = new_sc\n",
        "                    PI[x].append(z)\n",
        "                    proceed = True\n",
        "        # Acumular o score total\n",
        "        total_score += old_sc\n",
        "\n",
        "    print(\"Score Total:\", total_score)  # Imprimir o score total\n",
        "    print(\"Rede: \", PI)\n",
        "    print(k2sc)\n",
        "\n",
        "    # Criar um grafo direcionado\n",
        "    G = nx.DiGraph()\n",
        "    for node, parents in PI.items():\n",
        "        for parent in parents:\n",
        "            G.add_edge(parent, node)\n",
        "\n",
        "    # Desenhar o grafo\n",
        "    plt.figure(figsize=(8, 5))\n",
        "    pos = nx.spring_layout(G)\n",
        "    nx.draw(G, pos, with_labels=True, node_size=3000, node_color=\"skyblue\", font_size=12, font_weight=\"bold\", arrowsize=20)\n",
        "    plt.title(\"Rede Aprendida\")\n",
        "    plt.show()\n",
        "\n",
        "    return PI, total_score\n",
        "\n",
        "\n",
        "if __name__ == '__main__':\n",
        "    DATA_CSV = sys.argv[1]\n",
        "    k = sys.argv[2]\n",
        "\n",
        "    D, V, N, V_CARD = load_data(DATA_CSV)\n",
        "    V = list(V)\n",
        "    print('Numero de variáveiss: ', len(V))\n",
        "    print('Numero de amostras: ', N)\n",
        "    print('Lista de variáveis: ', V)\n",
        "\n",
        "    start_time = time.time()\n",
        "    random.shuffle(V)\n",
        "\n",
        "    parents = int(len(V)) / 5\n",
        "    max_parents = {v: parents for v in V}\n",
        "    ordering = [v for v in V]\n",
        "\n",
        "    PI = K2_algorithm(ordering, max_parents, D)\n",
        "\n",
        "    final_time = time.time() - start_time\n",
        "\n",
        "    print(f'Tempo gasto: {final_time}')\n",
        "\n",
        "\n"
      ],
      "metadata": {
        "colab": {
          "base_uri": "https://localhost:8080/",
          "height": 1000
        },
        "id": "8WFQmIE-_QDY",
        "outputId": "247da7ec-e6c0-4200-b801-6812322e6671"
      },
      "execution_count": null,
      "outputs": [
        {
          "output_type": "stream",
          "name": "stdout",
          "text": [
            "ARQUIVO:                age spectacle-prescrip astigmatism tear-prod-rate  \\\n",
            "0            young              myope          no        reduced   \n",
            "1            young              myope          no         normal   \n",
            "2            young              myope         yes        reduced   \n",
            "3            young              myope         yes         normal   \n",
            "4            young       hypermetrope          no        reduced   \n",
            "5            young       hypermetrope          no         normal   \n",
            "6            young       hypermetrope         yes        reduced   \n",
            "7            young       hypermetrope         yes         normal   \n",
            "8   pre-presbyopic              myope          no        reduced   \n",
            "9   pre-presbyopic              myope          no         normal   \n",
            "10  pre-presbyopic              myope         yes        reduced   \n",
            "11  pre-presbyopic              myope         yes         normal   \n",
            "12  pre-presbyopic       hypermetrope          no        reduced   \n",
            "13  pre-presbyopic       hypermetrope          no         normal   \n",
            "14  pre-presbyopic       hypermetrope         yes        reduced   \n",
            "15  pre-presbyopic       hypermetrope         yes         normal   \n",
            "16      presbyopic              myope          no        reduced   \n",
            "17      presbyopic              myope          no         normal   \n",
            "18      presbyopic              myope         yes        reduced   \n",
            "19      presbyopic              myope         yes         normal   \n",
            "20      presbyopic       hypermetrope          no        reduced   \n",
            "21      presbyopic       hypermetrope          no         normal   \n",
            "22      presbyopic       hypermetrope         yes        reduced   \n",
            "23      presbyopic       hypermetrope         yes         normal   \n",
            "\n",
            "   contact-lenses  \n",
            "0            none  \n",
            "1            soft  \n",
            "2            none  \n",
            "3            hard  \n",
            "4            none  \n",
            "5            soft  \n",
            "6            none  \n",
            "7            hard  \n",
            "8            none  \n",
            "9            soft  \n",
            "10           none  \n",
            "11           hard  \n",
            "12           none  \n",
            "13           soft  \n",
            "14           none  \n",
            "15           none  \n",
            "16           none  \n",
            "17           none  \n",
            "18           none  \n",
            "19           hard  \n",
            "20           none  \n",
            "21           soft  \n",
            "22           none  \n",
            "23           none  \n",
            "VARIÁVEIS: Index(['age', 'spectacle-prescrip', 'astigmatism', 'tear-prod-rate',\n",
            "       'contact-lenses'],\n",
            "      dtype='object')\n",
            "NÚMERO DE AMOSTRAS: 24\n",
            "MAPEAMENTO DAS VARIÁVEIS COM NÚMEROS DE VALORES ÚNICOS: {'age': 3, 'spectacle-prescrip': 2, 'astigmatism': 2, 'tear-prod-rate': 2, 'contact-lenses': 3}\n",
            "Numero de variáveiss:  5\n",
            "Numero de amostras:  24\n",
            "Lista de variáveis:  ['age', 'spectacle-prescrip', 'astigmatism', 'tear-prod-rate', 'contact-lenses']\n",
            "Score Total: -80.69586024246254\n",
            "Rede:  {'spectacle-prescrip': [], 'contact-lenses': [], 'tear-prod-rate': ['contact-lenses'], 'age': [], 'astigmatism': ['contact-lenses']}\n",
            "<bound method K2Score.local_score of <pgmpy.estimators.StructureScore.K2Score object at 0x7ea232ace050>>\n"
          ]
        },
        {
          "output_type": "display_data",
          "data": {
            "text/plain": [
              "<Figure size 800x500 with 1 Axes>"
            ],
            "image/png": "[encoded data removed]"
          },
          "metadata": {}
        },
        {
          "output_type": "stream",
          "name": "stdout",
          "text": [
            "Tempo gasto: 0.4302797317504883\n"
          ]
        }
      ]
    },
    {
      "cell_type": "code",
      "source": [
        "import pandas as pd\n",
        "import numpy as np\n",
        "from sklearn.ensemble import RandomForestClassifier\n",
        "from boruta import BorutaPy\n",
        "\n",
        "def boruta_feature_ranking(data_path, target_column):\n",
        "    # Carregar os dados do CSV\n",
        "    data = pd.read_csv(data_path)\n",
        "\n",
        "    # Print para verificar os dados antes do processamento\n",
        "    print(\"Dados antes do processamento:\")\n",
        "    print(data.head())\n",
        "\n",
        "    # Mapear os valores nominais para números inteiros únicos\n",
        "    data_encoded = data.apply(lambda x: pd.factorize(x)[0])\n",
        "\n",
        "    # Print para verificar os dados após o processamento\n",
        "    print(\"Dados após o processamento:\")\n",
        "    print(data_encoded.head())\n",
        "\n",
        "    # Separar os dados em características (X) e alvo (y)\n",
        "    X = data_encoded.drop(columns=[target_column])\n",
        "    y = data_encoded[target_column]\n",
        "\n",
        "    # Inicializar um classificador Random Forest\n",
        "    rf = RandomForestClassifier(n_estimators=100, n_jobs=-1)\n",
        "\n",
        "    # Inicializar o Boruta\n",
        "    boruta_selector = BorutaPy(rf, n_estimators='auto', verbose=2)\n",
        "\n",
        "    # Ajustar o Boruta aos dados\n",
        "    boruta_selector.fit(X.values, y.values)\n",
        "\n",
        "    # Obter as características selecionadas\n",
        "    selected_features = X.columns[boruta_selector.support_]\n",
        "\n",
        "    # Obter a ordem das características selecionadas\n",
        "    feature_ranking = np.argsort(boruta_selector.ranking_)\n",
        "\n",
        "    # Criar um dicionário com a ordem das características selecionadas\n",
        "    feature_order = {feature: rank for feature, rank in zip(selected_features, feature_ranking)}\n",
        "\n",
        "    # Retornar a ordem das características selecionadas\n",
        "    return feature_order\n",
        "\n",
        "\n",
        "\n",
        "# Caminho para o arquivo CSV e o nome da coluna alvo\n",
        "data_path = \"teste.csv\"\n",
        "target_column = \"contact-lenses\"\n",
        "\n",
        "# Chamar a função e obter a ordem das características selecionadas\n",
        "feature_order = boruta_feature_ranking(data_path, target_column)\n",
        "\n",
        "# Imprimir a ordem das características selecionadas\n",
        "print(\"Ordem das características selecionadas:\")\n",
        "for feature, rank in feature_order.items():\n",
        "    print(f\"{feature}: {rank}\")\n"
      ],
      "metadata": {
        "colab": {
          "base_uri": "https://localhost:8080/",
          "height": 686
        },
        "id": "iKlfeMeYwPmB",
        "outputId": "e8a465d1-4079-44aa-df5a-e9bc36510930"
      },
      "execution_count": null,
      "outputs": [
        {
          "output_type": "stream",
          "name": "stdout",
          "text": [
            "Dados antes do processamento:\n",
            "     age spectacle-prescrip astigmatism tear-prod-rate contact-lenses\n",
            "0  young              myope          no        reduced           none\n",
            "1  young              myope          no         normal           soft\n",
            "2  young              myope         yes        reduced           none\n",
            "3  young              myope         yes         normal           hard\n",
            "4  young       hypermetrope          no        reduced           none\n",
            "Dados após o processamento:\n",
            "   age  spectacle-prescrip  astigmatism  tear-prod-rate  contact-lenses\n",
            "0    0                   0            0               0               0\n",
            "1    0                   0            0               1               1\n",
            "2    0                   0            1               0               0\n",
            "3    0                   0            1               1               2\n",
            "4    0                   1            0               0               0\n"
          ]
        },
        {
          "output_type": "error",
          "ename": "AttributeError",
          "evalue": "module 'numpy' has no attribute 'int'.\n`np.int` was a deprecated alias for the builtin `int`. To avoid this error in existing code, use `int` by itself. Doing this will not modify any behavior and is safe. When replacing `np.int`, you may wish to use e.g. `np.int64` or `np.int32` to specify the precision. If you wish to review your current use, check the release note link for additional information.\nThe aliases was originally deprecated in NumPy 1.20; for more details and guidance see the original release note at:\n    https://numpy.org/devdocs/release/1.20.0-notes.html#deprecations",
          "traceback": [
            "\u001b[0;31m---------------------------------------------------------------------------\u001b[0m",
            "\u001b[0;31mAttributeError\u001b[0m                            Traceback (most recent call last)",
            "\u001b[0;32m<ipython-input-62-0a32687228d1>\u001b[0m in \u001b[0;36m<cell line: 53>\u001b[0;34m()\u001b[0m\n\u001b[1;32m     51\u001b[0m \u001b[0;34m\u001b[0m\u001b[0m\n\u001b[1;32m     52\u001b[0m \u001b[0;31m# Chamar a função e obter a ordem das características selecionadas\u001b[0m\u001b[0;34m\u001b[0m\u001b[0;34m\u001b[0m\u001b[0m\n\u001b[0;32m---> 53\u001b[0;31m \u001b[0mfeature_order\u001b[0m \u001b[0;34m=\u001b[0m \u001b[0mboruta_feature_ranking\u001b[0m\u001b[0;34m(\u001b[0m\u001b[0mdata_path\u001b[0m\u001b[0;34m,\u001b[0m \u001b[0mtarget_column\u001b[0m\u001b[0;34m)\u001b[0m\u001b[0;34m\u001b[0m\u001b[0;34m\u001b[0m\u001b[0m\n\u001b[0m\u001b[1;32m     54\u001b[0m \u001b[0;34m\u001b[0m\u001b[0m\n\u001b[1;32m     55\u001b[0m \u001b[0;31m# Imprimir a ordem das características selecionadas\u001b[0m\u001b[0;34m\u001b[0m\u001b[0;34m\u001b[0m\u001b[0m\n",
            "\u001b[0;32m<ipython-input-62-0a32687228d1>\u001b[0m in \u001b[0;36mboruta_feature_ranking\u001b[0;34m(data_path, target_column)\u001b[0m\n\u001b[1;32m     30\u001b[0m \u001b[0;34m\u001b[0m\u001b[0m\n\u001b[1;32m     31\u001b[0m     \u001b[0;31m# Ajustar o Boruta aos dados\u001b[0m\u001b[0;34m\u001b[0m\u001b[0;34m\u001b[0m\u001b[0m\n\u001b[0;32m---> 32\u001b[0;31m     \u001b[0mboruta_selector\u001b[0m\u001b[0;34m.\u001b[0m\u001b[0mfit\u001b[0m\u001b[0;34m(\u001b[0m\u001b[0mX\u001b[0m\u001b[0;34m.\u001b[0m\u001b[0mvalues\u001b[0m\u001b[0;34m,\u001b[0m \u001b[0my\u001b[0m\u001b[0;34m.\u001b[0m\u001b[0mvalues\u001b[0m\u001b[0;34m)\u001b[0m\u001b[0;34m\u001b[0m\u001b[0;34m\u001b[0m\u001b[0m\n\u001b[0m\u001b[1;32m     33\u001b[0m \u001b[0;34m\u001b[0m\u001b[0m\n\u001b[1;32m     34\u001b[0m     \u001b[0;31m# Obter as características selecionadas\u001b[0m\u001b[0;34m\u001b[0m\u001b[0;34m\u001b[0m\u001b[0m\n",
            "\u001b[0;32m/usr/local/lib/python3.10/dist-packages/boruta/boruta_py.py\u001b[0m in \u001b[0;36mfit\u001b[0;34m(self, X, y)\u001b[0m\n\u001b[1;32m    199\u001b[0m         \"\"\"\n\u001b[1;32m    200\u001b[0m \u001b[0;34m\u001b[0m\u001b[0m\n\u001b[0;32m--> 201\u001b[0;31m         \u001b[0;32mreturn\u001b[0m \u001b[0mself\u001b[0m\u001b[0;34m.\u001b[0m\u001b[0m_fit\u001b[0m\u001b[0;34m(\u001b[0m\u001b[0mX\u001b[0m\u001b[0;34m,\u001b[0m \u001b[0my\u001b[0m\u001b[0;34m)\u001b[0m\u001b[0;34m\u001b[0m\u001b[0;34m\u001b[0m\u001b[0m\n\u001b[0m\u001b[1;32m    202\u001b[0m \u001b[0;34m\u001b[0m\u001b[0m\n\u001b[1;32m    203\u001b[0m     \u001b[0;32mdef\u001b[0m \u001b[0mtransform\u001b[0m\u001b[0;34m(\u001b[0m\u001b[0mself\u001b[0m\u001b[0;34m,\u001b[0m \u001b[0mX\u001b[0m\u001b[0;34m,\u001b[0m \u001b[0mweak\u001b[0m\u001b[0;34m=\u001b[0m\u001b[0;32mFalse\u001b[0m\u001b[0;34m)\u001b[0m\u001b[0;34m:\u001b[0m\u001b[0;34m\u001b[0m\u001b[0;34m\u001b[0m\u001b[0m\n",
            "\u001b[0;32m/usr/local/lib/python3.10/dist-packages/boruta/boruta_py.py\u001b[0m in \u001b[0;36m_fit\u001b[0;34m(self, X, y)\u001b[0m\n\u001b[1;32m    258\u001b[0m         \u001b[0;31m# 1  - accepted in original code\u001b[0m\u001b[0;34m\u001b[0m\u001b[0;34m\u001b[0m\u001b[0m\n\u001b[1;32m    259\u001b[0m         \u001b[0;31m# -1 - rejected in original code\u001b[0m\u001b[0;34m\u001b[0m\u001b[0;34m\u001b[0m\u001b[0m\n\u001b[0;32m--> 260\u001b[0;31m         \u001b[0mdec_reg\u001b[0m \u001b[0;34m=\u001b[0m \u001b[0mnp\u001b[0m\u001b[0;34m.\u001b[0m\u001b[0mzeros\u001b[0m\u001b[0;34m(\u001b[0m\u001b[0mn_feat\u001b[0m\u001b[0;34m,\u001b[0m \u001b[0mdtype\u001b[0m\u001b[0;34m=\u001b[0m\u001b[0mnp\u001b[0m\u001b[0;34m.\u001b[0m\u001b[0mint\u001b[0m\u001b[0;34m)\u001b[0m\u001b[0;34m\u001b[0m\u001b[0;34m\u001b[0m\u001b[0m\n\u001b[0m\u001b[1;32m    261\u001b[0m         \u001b[0;31m# counts how many times a given feature was more important than\u001b[0m\u001b[0;34m\u001b[0m\u001b[0;34m\u001b[0m\u001b[0m\n\u001b[1;32m    262\u001b[0m         \u001b[0;31m# the best of the shadow features\u001b[0m\u001b[0;34m\u001b[0m\u001b[0;34m\u001b[0m\u001b[0m\n",
            "\u001b[0;32m/usr/local/lib/python3.10/dist-packages/numpy/__init__.py\u001b[0m in \u001b[0;36m__getattr__\u001b[0;34m(attr)\u001b[0m\n\u001b[1;32m    317\u001b[0m \u001b[0;34m\u001b[0m\u001b[0m\n\u001b[1;32m    318\u001b[0m         \u001b[0;32mif\u001b[0m \u001b[0mattr\u001b[0m \u001b[0;32min\u001b[0m \u001b[0m__former_attrs__\u001b[0m\u001b[0;34m:\u001b[0m\u001b[0;34m\u001b[0m\u001b[0;34m\u001b[0m\u001b[0m\n\u001b[0;32m--> 319\u001b[0;31m             \u001b[0;32mraise\u001b[0m \u001b[0mAttributeError\u001b[0m\u001b[0;34m(\u001b[0m\u001b[0m__former_attrs__\u001b[0m\u001b[0;34m[\u001b[0m\u001b[0mattr\u001b[0m\u001b[0;34m]\u001b[0m\u001b[0;34m)\u001b[0m\u001b[0;34m\u001b[0m\u001b[0;34m\u001b[0m\u001b[0m\n\u001b[0m\u001b[1;32m    320\u001b[0m \u001b[0;34m\u001b[0m\u001b[0m\n\u001b[1;32m    321\u001b[0m         \u001b[0;32mif\u001b[0m \u001b[0mattr\u001b[0m \u001b[0;34m==\u001b[0m \u001b[0;34m'testing'\u001b[0m\u001b[0;34m:\u001b[0m\u001b[0;34m\u001b[0m\u001b[0;34m\u001b[0m\u001b[0m\n",
            "\u001b[0;31mAttributeError\u001b[0m: module 'numpy' has no attribute 'int'.\n`np.int` was a deprecated alias for the builtin `int`. To avoid this error in existing code, use `int` by itself. Doing this will not modify any behavior and is safe. When replacing `np.int`, you may wish to use e.g. `np.int64` or `np.int32` to specify the precision. If you wish to review your current use, check the release note link for additional information.\nThe aliases was originally deprecated in NumPy 1.20; for more details and guidance see the original release note at:\n    https://numpy.org/devdocs/release/1.20.0-notes.html#deprecations"
          ]
        }
      ]
    },
    {
      "cell_type": "code",
      "source": [
        "pip install -U Boruta\n"
      ],
      "metadata": {
        "colab": {
          "base_uri": "https://localhost:8080/"
        },
        "id": "PZ2WmSpAwxOf",
        "outputId": "8c46592b-eb38-4efd-d3ef-63bddbede9bc"
      },
      "execution_count": null,
      "outputs": [
        {
          "output_type": "stream",
          "name": "stdout",
          "text": [
            "Requirement already satisfied: Boruta in /usr/local/lib/python3.10/dist-packages (0.3)\n",
            "Requirement already satisfied: numpy>=1.10.4 in /usr/local/lib/python3.10/dist-packages (from Boruta) (1.25.2)\n",
            "Requirement already satisfied: scikit-learn>=0.17.1 in /usr/local/lib/python3.10/dist-packages (from Boruta) (1.2.2)\n",
            "Requirement already satisfied: scipy>=0.17.0 in /usr/local/lib/python3.10/dist-packages (from Boruta) (1.11.4)\n",
            "Requirement already satisfied: joblib>=1.1.1 in /usr/local/lib/python3.10/dist-packages (from scikit-learn>=0.17.1->Boruta) (1.3.2)\n",
            "Requirement already satisfied: threadpoolctl>=2.0.0 in /usr/local/lib/python3.10/dist-packages (from scikit-learn>=0.17.1->Boruta) (3.2.0)\n"
          ]
        }
      ]
    }
  ]
}