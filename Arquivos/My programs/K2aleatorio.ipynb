{
 "cells": [
  {
   "cell_type": "code",
   "execution_count": 2,
   "metadata": {},
   "outputs": [
    {
     "name": "stdout",
     "output_type": "stream",
     "text": [
      "Ordem das variáveis antes de estimar: Index(['age', 'spectacle-prescrip', 'astigmatism', 'tear-prod-rate',\n",
      "       'contact-lenses'],\n",
      "      dtype='object')\n",
      "---------------- ESTIMANDO ----------------\n",
      "Arquivo com a ordem aleatória para estimar\n",
      "               age spectacle-prescrip contact-lenses tear-prod-rate  \\\n",
      "0            young              myope           none        reduced   \n",
      "1            young              myope           soft         normal   \n",
      "2            young              myope           none        reduced   \n",
      "3            young              myope           hard         normal   \n",
      "4            young       hypermetrope           none        reduced   \n",
      "5            young       hypermetrope           soft         normal   \n",
      "6            young       hypermetrope           none        reduced   \n",
      "7            young       hypermetrope           hard         normal   \n",
      "8   pre-presbyopic              myope           none        reduced   \n",
      "9   pre-presbyopic              myope           soft         normal   \n",
      "10  pre-presbyopic              myope           none        reduced   \n",
      "11  pre-presbyopic              myope           hard         normal   \n",
      "12  pre-presbyopic       hypermetrope           none        reduced   \n",
      "13  pre-presbyopic       hypermetrope           soft         normal   \n",
      "14  pre-presbyopic       hypermetrope           none        reduced   \n",
      "15  pre-presbyopic       hypermetrope           none         normal   \n",
      "16      presbyopic              myope           none        reduced   \n",
      "17      presbyopic              myope           none         normal   \n",
      "18      presbyopic              myope           none        reduced   \n",
      "19      presbyopic              myope           hard         normal   \n",
      "20      presbyopic       hypermetrope           none        reduced   \n",
      "21      presbyopic       hypermetrope           soft         normal   \n",
      "22      presbyopic       hypermetrope           none        reduced   \n",
      "23      presbyopic       hypermetrope           none         normal   \n",
      "\n",
      "   astigmatism  \n",
      "0           no  \n",
      "1           no  \n",
      "2          yes  \n",
      "3          yes  \n",
      "4           no  \n",
      "5           no  \n",
      "6          yes  \n",
      "7          yes  \n",
      "8           no  \n",
      "9           no  \n",
      "10         yes  \n",
      "11         yes  \n",
      "12          no  \n",
      "13          no  \n",
      "14         yes  \n",
      "15         yes  \n",
      "16          no  \n",
      "17          no  \n",
      "18         yes  \n",
      "19         yes  \n",
      "20          no  \n",
      "21          no  \n",
      "22         yes  \n",
      "23         yes  \n",
      "Ordem das variáveis aleatórias para estimar: Index(['age', 'spectacle-prescrip', 'contact-lenses', 'tear-prod-rate',\n",
      "       'astigmatism'],\n",
      "      dtype='object')\n",
      "<pgmpy.estimators.HillClimbSearch.HillClimbSearch object at 0x0000022C18D88DD0>\n"
     ]
    },
    {
     "name": "stderr",
     "output_type": "stream",
     "text": [
      " 20%|██        | 2/10 [00:00<00:00, 19.11it/s]"
     ]
    },
    {
     "name": "stdout",
     "output_type": "stream",
     "text": [
      "Melhor modelo: DAG with 5 nodes and 2 edges\n",
      "Valor de Score: -98.72503647411926\n",
      "Estrutura da rede: [('contact-lenses', 'tear-prod-rate'), ('contact-lenses', 'astigmatism')]\n",
      "CPDs: [<TabularCPD representing P(age:3) at 0x22c18ecfd10>, <TabularCPD representing P(spectacle-prescrip:2) at 0x22c18db3e90>, <TabularCPD representing P(contact-lenses:3) at 0x22c18ecfc50>, <TabularCPD representing P(tear-prod-rate:2 | contact-lenses:3) at 0x22c18ecf320>, <TabularCPD representing P(astigmatism:2 | contact-lenses:3) at 0x22c18ecfef0>]\n",
      "Bayesian Network: BayesianNetwork with 5 nodes and 2 edges\n"
     ]
    },
    {
     "name": "stderr",
     "output_type": "stream",
     "text": [
      "\n"
     ]
    }
   ],
   "source": [
    "import pandas as pd\n",
    "import numpy as np\n",
    "from pgmpy.estimators import K2Score\n",
    "from pgmpy.models import BayesianNetwork\n",
    "from pgmpy.estimators import HillClimbSearch, BayesianEstimator\n",
    "import random\n",
    "\n",
    "def load_data(DATA_CSV):\n",
    "    D = pd.read_csv(DATA_CSV)\n",
    "    V = D.columns\n",
    "    D_shuffled_columns = D.sample(frac=1, axis=1)  # Embaralha as colunas\n",
    "    V_shuffled_columns = D_shuffled_columns.columns\n",
    "    #print(f'ARQUIVO: {D}')\n",
    "    #print(f'VARIÁVEIS: {V}')\n",
    "    return D, V, D_shuffled_columns, V_shuffled_columns\n",
    "\n",
    "def calcular_k2(D_shuffled_columns):\n",
    "    k2score = K2Score(D_shuffled_columns)\n",
    "    return k2score\n",
    "\n",
    "def estimar_modelo(D_shuffled_columns):\n",
    "    k2score = K2Score(D_shuffled_columns)  # Calcula o K2Score com os dados embaralhados\n",
    "    estimator_k2 = HillClimbSearch(D_shuffled_columns)\n",
    "    print(estimator_k2)  # Usa os dados embaralhados para a busca\n",
    "    max_possible_edges = len(V_shuffled_columns) * (len(V_shuffled_columns) - 1) / 2\n",
    "    max_iter = min(max_possible_edges, 1000)\n",
    "    best_model = estimator_k2.estimate(scoring_method='k2score', max_indegree=4, max_iter=max_iter)\n",
    "    k2_score = k2score.score(best_model)  # Calcula o score com os dados embaralhados\n",
    "    return best_model, k2_score\n",
    "\n",
    "'''def estimar_modelo(D_shuffled_columns):\n",
    "    k2score = K2Score(D_shuffled_columns)\n",
    "    best_score = float(\"-inf\")\n",
    "    best_model = None\n",
    "\n",
    "    # Teste diferentes ordens de variáveis e escolha a que maximiza o K2Score\n",
    "    for i in range(10):  # Teste 10 ordens aleatórias diferentes\n",
    "        random_order = random.sample(D_shuffled_columns.columns.tolist(), len(D_shuffled_columns.columns))\n",
    "        estimator_k2 = HillClimbSearch(D_shuffled_columns[random_order])\n",
    "        model = estimator_k2.estimate(scoring_method='k2score', max_indegree=4, max_iter=1000)\n",
    "        score = k2score.score(model)\n",
    "        print(f\"Ordem[{random_order}]: Score:\", end=\" \")\n",
    "        print(score)\n",
    "        print('------------------------------------')\n",
    "        if score > best_score:\n",
    "            best_score = score\n",
    "            best_model = model\n",
    "\n",
    "    return best_model, best_score'''\n",
    "\n",
    "def tabular_cpd(best_model, D_shuffled_columns):\n",
    "    bayesian_network = BayesianNetwork(best_model)\n",
    "    estimator = BayesianEstimator(bayesian_network, D_shuffled_columns)\n",
    "    cpds = []\n",
    "    for node in bayesian_network.nodes():\n",
    "        cpd = estimator.estimate_cpd(node)\n",
    "        cpds.append(cpd)\n",
    "    return cpds, bayesian_network\n",
    "\n",
    "# Caminho do arquivo CSV original\n",
    "DATA_CSV = 'contact-lenses.csv'\n",
    "\n",
    "# Carregar dados\n",
    "D, V, D_shuffled_columns, V_shuffled_columns = load_data(DATA_CSV)\n",
    "\n",
    "\n",
    "# Estima a estrutura do modelo com o K2\n",
    "#print(f'Ordem das variáveis antes de estimar: {D}')\n",
    "print(f'Ordem das variáveis antes de estimar: {V}')\n",
    "print('---------------- ESTIMANDO ----------------')\n",
    "print(f'Arquivo com a ordem aleatória para estimar')\n",
    "print(D_shuffled_columns)\n",
    "print(f'Ordem das variáveis aleatórias para estimar: {V_shuffled_columns}')\n",
    "best_model, k2_score = estimar_modelo(D_shuffled_columns)\n",
    "print(f'Melhor modelo: {best_model}')\n",
    "print(f'Valor de Score: {k2_score}')\n",
    "\n",
    "\n",
    "# Exibe a estrutura do modelo\n",
    "structure = (best_model.edges)\n",
    "print(f'Estrutura da rede: {structure}')\n",
    "\n",
    "# Estima as CPDs e passa a bayesian_network\n",
    "cpds, bayesian_network = tabular_cpd(best_model, D_shuffled_columns)\n",
    "print(f'CPDs: {cpds}')\n",
    "print(f'Bayesian Network: {bayesian_network}')\n"
   ]
  },
  {
   "cell_type": "code",
   "execution_count": 34,
   "metadata": {},
   "outputs": [
    {
     "name": "stdout",
     "output_type": "stream",
     "text": [
      "Ordem aleatória: ['spectacle-prescrip', 'age', 'tear-prod-rate', 'contact-lenses', 'astigmatism']\n",
      "Ordem das variáveis após passar pelo estimador HillClimb: ['spectacle-prescrip', 'age', 'tear-prod-rate', 'contact-lenses', 'astigmatism']\n"
     ]
    },
    {
     "name": "stderr",
     "output_type": "stream",
     "text": [
      " 20%|██        | 2/10 [00:00<00:00, 20.78it/s]\n"
     ]
    },
    {
     "name": "stdout",
     "output_type": "stream",
     "text": [
      "Estrutura gerada após estimar: [('contact-lenses', 'tear-prod-rate'), ('contact-lenses', 'astigmatism')]\n",
      "Valor de K2: -98.72503647411929\n",
      "--------------------------------------------------------------------------\n",
      "Ordem aleatória: ['astigmatism', 'spectacle-prescrip', 'contact-lenses', 'tear-prod-rate', 'age']\n",
      "Ordem das variáveis após passar pelo estimador HillClimb: ['astigmatism', 'spectacle-prescrip', 'contact-lenses', 'tear-prod-rate', 'age']\n"
     ]
    },
    {
     "name": "stderr",
     "output_type": "stream",
     "text": [
      " 20%|██        | 2/10 [00:00<00:00, 27.61it/s]\n"
     ]
    },
    {
     "name": "stdout",
     "output_type": "stream",
     "text": [
      "Estrutura gerada após estimar: [('contact-lenses', 'tear-prod-rate'), ('contact-lenses', 'astigmatism')]\n",
      "Valor de K2: -98.72503647411928\n",
      "--------------------------------------------------------------------------\n",
      "Ordem aleatória: ['age', 'astigmatism', 'contact-lenses', 'spectacle-prescrip', 'tear-prod-rate']\n",
      "Ordem das variáveis após passar pelo estimador HillClimb: ['age', 'astigmatism', 'contact-lenses', 'spectacle-prescrip', 'tear-prod-rate']\n"
     ]
    },
    {
     "name": "stderr",
     "output_type": "stream",
     "text": [
      " 20%|██        | 2/10 [00:00<00:00, 22.42it/s]\n"
     ]
    },
    {
     "name": "stdout",
     "output_type": "stream",
     "text": [
      "Estrutura gerada após estimar: [('contact-lenses', 'tear-prod-rate'), ('contact-lenses', 'astigmatism')]\n",
      "Valor de K2: -98.72503647411929\n",
      "--------------------------------------------------------------------------\n",
      "Ordem aleatória: ['astigmatism', 'spectacle-prescrip', 'contact-lenses', 'age', 'tear-prod-rate']\n",
      "Ordem das variáveis após passar pelo estimador HillClimb: ['astigmatism', 'spectacle-prescrip', 'contact-lenses', 'age', 'tear-prod-rate']\n"
     ]
    },
    {
     "name": "stderr",
     "output_type": "stream",
     "text": [
      " 20%|██        | 2/10 [00:00<00:00, 19.06it/s]\n"
     ]
    },
    {
     "name": "stdout",
     "output_type": "stream",
     "text": [
      "Estrutura gerada após estimar: [('contact-lenses', 'tear-prod-rate'), ('contact-lenses', 'astigmatism')]\n",
      "Valor de K2: -98.72503647411929\n",
      "--------------------------------------------------------------------------\n",
      "Ordem aleatória: ['tear-prod-rate', 'contact-lenses', 'spectacle-prescrip', 'age', 'astigmatism']\n",
      "Ordem das variáveis após passar pelo estimador HillClimb: ['tear-prod-rate', 'contact-lenses', 'spectacle-prescrip', 'age', 'astigmatism']\n"
     ]
    },
    {
     "name": "stderr",
     "output_type": "stream",
     "text": [
      " 20%|██        | 2/10 [00:00<00:00, 10.77it/s]\n"
     ]
    },
    {
     "name": "stdout",
     "output_type": "stream",
     "text": [
      "Estrutura gerada após estimar: [('contact-lenses', 'tear-prod-rate'), ('contact-lenses', 'astigmatism')]\n",
      "Valor de K2: -98.72503647411929\n",
      "--------------------------------------------------------------------------\n",
      "Ordem aleatória: ['contact-lenses', 'astigmatism', 'spectacle-prescrip', 'age', 'tear-prod-rate']\n",
      "Ordem das variáveis após passar pelo estimador HillClimb: ['contact-lenses', 'astigmatism', 'spectacle-prescrip', 'age', 'tear-prod-rate']\n"
     ]
    },
    {
     "name": "stderr",
     "output_type": "stream",
     "text": [
      " 20%|██        | 2/10 [00:00<00:00, 27.35it/s]\n"
     ]
    },
    {
     "name": "stdout",
     "output_type": "stream",
     "text": [
      "Estrutura gerada após estimar: [('contact-lenses', 'tear-prod-rate'), ('contact-lenses', 'astigmatism')]\n",
      "Valor de K2: -98.72503647411929\n",
      "--------------------------------------------------------------------------\n",
      "Ordem aleatória: ['tear-prod-rate', 'spectacle-prescrip', 'astigmatism', 'age', 'contact-lenses']\n",
      "Ordem das variáveis após passar pelo estimador HillClimb: ['tear-prod-rate', 'spectacle-prescrip', 'astigmatism', 'age', 'contact-lenses']\n"
     ]
    },
    {
     "name": "stderr",
     "output_type": "stream",
     "text": [
      " 20%|██        | 2/10 [00:00<00:00, 35.09it/s]\n"
     ]
    },
    {
     "name": "stdout",
     "output_type": "stream",
     "text": [
      "Estrutura gerada após estimar: [('contact-lenses', 'tear-prod-rate'), ('contact-lenses', 'astigmatism')]\n",
      "Valor de K2: -98.72503647411928\n",
      "--------------------------------------------------------------------------\n",
      "Ordem aleatória: ['contact-lenses', 'age', 'spectacle-prescrip', 'astigmatism', 'tear-prod-rate']\n",
      "Ordem das variáveis após passar pelo estimador HillClimb: ['contact-lenses', 'age', 'spectacle-prescrip', 'astigmatism', 'tear-prod-rate']\n"
     ]
    },
    {
     "name": "stderr",
     "output_type": "stream",
     "text": [
      " 20%|██        | 2/10 [00:00<00:00, 35.39it/s]\n"
     ]
    },
    {
     "name": "stdout",
     "output_type": "stream",
     "text": [
      "Estrutura gerada após estimar: [('contact-lenses', 'tear-prod-rate'), ('contact-lenses', 'astigmatism')]\n",
      "Valor de K2: -98.72503647411929\n",
      "--------------------------------------------------------------------------\n",
      "Ordem aleatória: ['age', 'contact-lenses', 'astigmatism', 'spectacle-prescrip', 'tear-prod-rate']\n",
      "Ordem das variáveis após passar pelo estimador HillClimb: ['age', 'contact-lenses', 'astigmatism', 'spectacle-prescrip', 'tear-prod-rate']\n"
     ]
    },
    {
     "name": "stderr",
     "output_type": "stream",
     "text": [
      " 20%|██        | 2/10 [00:00<00:00, 20.72it/s]\n"
     ]
    },
    {
     "name": "stdout",
     "output_type": "stream",
     "text": [
      "Estrutura gerada após estimar: [('contact-lenses', 'tear-prod-rate'), ('contact-lenses', 'astigmatism')]\n",
      "Valor de K2: -98.72503647411929\n",
      "--------------------------------------------------------------------------\n",
      "Ordem aleatória: ['age', 'spectacle-prescrip', 'astigmatism', 'tear-prod-rate', 'contact-lenses']\n",
      "Ordem das variáveis após passar pelo estimador HillClimb: ['age', 'spectacle-prescrip', 'astigmatism', 'tear-prod-rate', 'contact-lenses']\n"
     ]
    },
    {
     "name": "stderr",
     "output_type": "stream",
     "text": [
      " 20%|██        | 2/10 [00:00<00:00, 22.48it/s]"
     ]
    },
    {
     "name": "stdout",
     "output_type": "stream",
     "text": [
      "Estrutura gerada após estimar: [('contact-lenses', 'tear-prod-rate'), ('contact-lenses', 'astigmatism')]\n",
      "Valor de K2: -98.72503647411928\n",
      "--------------------------------------------------------------------------\n",
      "Modelo 1:\n",
      "Estrutura: [('contact-lenses', 'tear-prod-rate'), ('contact-lenses', 'astigmatism')]\n",
      "Score: -98.72503647411929\n",
      "--------------------\n",
      "Modelo 2:\n",
      "Estrutura: [('contact-lenses', 'tear-prod-rate'), ('contact-lenses', 'astigmatism')]\n",
      "Score: -98.72503647411928\n",
      "--------------------\n",
      "Modelo 3:\n",
      "Estrutura: [('contact-lenses', 'tear-prod-rate'), ('contact-lenses', 'astigmatism')]\n",
      "Score: -98.72503647411929\n",
      "--------------------\n",
      "Modelo 4:\n",
      "Estrutura: [('contact-lenses', 'tear-prod-rate'), ('contact-lenses', 'astigmatism')]\n",
      "Score: -98.72503647411929\n",
      "--------------------\n",
      "Modelo 5:\n",
      "Estrutura: [('contact-lenses', 'tear-prod-rate'), ('contact-lenses', 'astigmatism')]\n",
      "Score: -98.72503647411929\n",
      "--------------------\n",
      "Modelo 6:\n",
      "Estrutura: [('contact-lenses', 'tear-prod-rate'), ('contact-lenses', 'astigmatism')]\n",
      "Score: -98.72503647411929\n",
      "--------------------\n",
      "Modelo 7:\n",
      "Estrutura: [('contact-lenses', 'tear-prod-rate'), ('contact-lenses', 'astigmatism')]\n",
      "Score: -98.72503647411928\n",
      "--------------------\n",
      "Modelo 8:\n",
      "Estrutura: [('contact-lenses', 'tear-prod-rate'), ('contact-lenses', 'astigmatism')]\n",
      "Score: -98.72503647411929\n",
      "--------------------\n",
      "Modelo 9:\n",
      "Estrutura: [('contact-lenses', 'tear-prod-rate'), ('contact-lenses', 'astigmatism')]\n",
      "Score: -98.72503647411929\n",
      "--------------------\n",
      "Modelo 10:\n",
      "Estrutura: [('contact-lenses', 'tear-prod-rate'), ('contact-lenses', 'astigmatism')]\n",
      "Score: -98.72503647411928\n",
      "--------------------\n"
     ]
    },
    {
     "name": "stderr",
     "output_type": "stream",
     "text": [
      "\n"
     ]
    }
   ],
   "source": [
    "import pandas as pd\n",
    "import numpy as np\n",
    "from pgmpy.estimators import K2Score\n",
    "from pgmpy.models import BayesianModel\n",
    "from pgmpy.estimators import HillClimbSearch, BayesianEstimator\n",
    "import random\n",
    "\n",
    "def load_data(DATA_CSV):\n",
    "    D = pd.read_csv(DATA_CSV)\n",
    "    V = D.columns\n",
    "    D_shuffled_columns = D.sample(frac=1, axis=1)  # Embaralha as colunas\n",
    "    V_shuffled_columns = D_shuffled_columns.columns\n",
    "    return D, V, D_shuffled_columns, V_shuffled_columns\n",
    "\n",
    "def estimar_modelo(D_shuffled_columns):\n",
    "    max_possible_edges = len(V_shuffled_columns) * (len(V_shuffled_columns) - 1) / 2\n",
    "    max_iter = min(max_possible_edges, 1000)\n",
    "    \n",
    "    all_models = []\n",
    "    # Avalia diferentes ordens de variáveis\n",
    "    for i in range(10):  # Teste 10 ordens aleatórias diferentes\n",
    "        k2score = K2Score(D_shuffled_columns)  # Calcula o K2Score com os dados embaralhados\n",
    "        estimator_k2 = HillClimbSearch(D_shuffled_columns)\n",
    "        random_order = random.sample(D_shuffled_columns.columns.tolist(), len(D_shuffled_columns.columns))\n",
    "        print(f'Ordem aleatória: {random_order}')\n",
    "        estimator_k2 = HillClimbSearch(D_shuffled_columns[random_order])\n",
    "        print(f'Ordem das variáveis após passar pelo estimador HillClimb: {estimator_k2.variables}') #print para ver se a ordem das variáveis estão indo corretas\n",
    "        \n",
    "        #O erro está aqui, na hora de estimar o model\n",
    "\n",
    "        model = estimator_k2.estimate(scoring_method='k2score', max_indegree=4, max_iter=max_iter)\n",
    "        print(f'Estrutura gerada após estimar: {model.edges}')\n",
    "        k2score = K2Score(D_shuffled_columns[random_order])\n",
    "        score = k2score.score(model)\n",
    "        print(f'Valor de K2: {score}')\n",
    "        all_models.append((model, score))\n",
    "        print('--------------------------------------------------------------------------')\n",
    "        \n",
    "    return all_models\n",
    "\n",
    "\n",
    "\n",
    "def tabular_cpd(best_model, D_shuffled_columns):\n",
    "    bayesian_network = BayesianNetwork(best_model)\n",
    "    estimator = BayesianEstimator(bayesian_network, D_shuffled_columns)\n",
    "    cpds = []\n",
    "    for node in bayesian_network.nodes():\n",
    "        cpd = estimator.estimate_cpd(node)\n",
    "        cpds.append(cpd)\n",
    "    return cpds, bayesian_network\n",
    "\n",
    "# Caminho do arquivo CSV original\n",
    "DATA_CSV = 'contact-lenses.csv'\n",
    "\n",
    "# Carregar dados\n",
    "D, V, D_shuffled_columns, V_shuffled_columns = load_data(DATA_CSV)\n",
    "\n",
    "# Estima os modelos e obtém a lista de todos os modelos gerados\n",
    "all_models = estimar_modelo(D_shuffled_columns)\n",
    "\n",
    "# Itera sobre a lista de modelos e imprime as estruturas e os scores\n",
    "for idx, (model, score) in enumerate(all_models):\n",
    "    print(f\"Modelo {idx + 1}:\")\n",
    "    print(\"Estrutura:\", model.edges)\n",
    "    print(\"Score:\", score)\n",
    "    print(\"--------------------\")\n"
   ]
  },
  {
   "cell_type": "code",
   "execution_count": 8,
   "metadata": {},
   "outputs": [
    {
     "data": {
      "image/png": "[encoded data removed]",
      "text/plain": [
       "<Figure size 1200x600 with 1 Axes>"
      ]
     },
     "metadata": {},
     "output_type": "display_data"
    }
   ],
   "source": [
    "import matplotlib.pyplot as plt\n",
    "import networkx as nx\n",
    "\n",
    "# Criar um objeto de grafo direcionado\n",
    "G = nx.DiGraph()\n",
    "\n",
    "# Adicionar arestas ao grafo com base na estrutura do modelo\n",
    "G.add_edges_from(best_model.edges())\n",
    "\n",
    "# Plotar o grafo\n",
    "plt.figure(figsize=(12, 6))\n",
    "pos = nx.spring_layout(G)  # Define a posição dos nós\n",
    "nx.draw(G, pos, with_labels=True, node_size=3000, node_color=\"skyblue\", font_size=10, arrowsize=20)\n",
    "plt.title(\"Estrutura da Rede Bayesiana\")\n",
    "plt.show()"
   ]
  }
 ],
 "metadata": {
  "kernelspec": {
   "display_name": "Python 3",
   "language": "python",
   "name": "python3"
  },
  "language_info": {
   "codemirror_mode": {
    "name": "ipython",
    "version": 3
   },
   "file_extension": ".py",
   "mimetype": "text/x-python",
   "name": "python",
   "nbconvert_exporter": "python",
   "pygments_lexer": "ipython3",
   "version": "3.12.3"
  }
 },
 "nbformat": 4,
 "nbformat_minor": 2
}
